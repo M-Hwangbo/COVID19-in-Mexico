{
 "cells": [
  {
   "cell_type": "code",
   "execution_count": 1,
   "metadata": {},
   "outputs": [
    {
     "name": "stderr",
     "output_type": "stream",
     "text": [
      "Using TensorFlow backend.\n"
     ]
    }
   ],
   "source": [
    "import sys\n",
    "\n",
    "import numpy as np\n",
    "import matplotlib.pyplot as plt\n",
    "import keras\n",
    "import pandas as pd"
   ]
  },
  {
   "cell_type": "code",
   "execution_count": 2,
   "metadata": {},
   "outputs": [],
   "source": [
    "np.random.seed(777)"
   ]
  },
  {
   "cell_type": "code",
   "execution_count": 3,
   "metadata": {},
   "outputs": [
    {
     "data": {
      "text/plain": [
       "121395"
      ]
     },
     "execution_count": 3,
     "metadata": {},
     "output_type": "execute_result"
    }
   ],
   "source": [
    "df=pd.read_csv('d_final_mehico.csv')\n",
    "# df.head()\n",
    "len(df)"
   ]
  },
  {
   "cell_type": "code",
   "execution_count": 4,
   "metadata": {},
   "outputs": [],
   "source": [
    "# featrues; x\n",
    "features= df.loc[:, ['sex', 'intubed','pneumonia','age_grp','pregnancy', 'diabetes', \n",
    "                 'copd', 'asthma','inmsupr','hypertension','other_disease',\n",
    "                 'cardiovascular','obesity', 'renal_chronic', 'tobacco', \n",
    "                 'contact_other_covid', 'covid_res', 'icu']]\n",
    "\n",
    "# label; y \n",
    "label = df.loc[:, ['diff_days']] # regression"
   ]
  },
  {
   "cell_type": "code",
   "execution_count": 5,
   "metadata": {},
   "outputs": [
    {
     "data": {
      "text/plain": [
       "array([[0. , 0.5, 0.5, ..., 1. , 0. , 0.5],\n",
       "       [1. , 0.5, 0. , ..., 1. , 0. , 0.5],\n",
       "       [0. , 0.5, 0.5, ..., 1. , 0. , 0.5],\n",
       "       ...,\n",
       "       [1. , 0. , 0. , ..., 0.5, 1. , 0. ],\n",
       "       [0. , 0.5, 0. , ..., 1. , 1. , 0.5],\n",
       "       [0. , 0.5, 0. , ..., 1. , 1. , 0.5]])"
      ]
     },
     "execution_count": 5,
     "metadata": {},
     "output_type": "execute_result"
    }
   ],
   "source": [
    "# 정규화\n",
    "from sklearn.preprocessing import MinMaxScaler\n",
    "feature_n = MinMaxScaler(feature_range=(0,1)).fit_transform(features)\n",
    "feature_n"
   ]
  },
  {
   "cell_type": "code",
   "execution_count": 7,
   "metadata": {},
   "outputs": [],
   "source": [
    "# Train, Test dataset 분리\n",
    "from sklearn.model_selection import train_test_split\n",
    "x_train, x_test, y_train, y_test = train_test_split(features, label, test_size=0.2, random_state=1004)"
   ]
  },
  {
   "cell_type": "code",
   "execution_count": 8,
   "metadata": {},
   "outputs": [
    {
     "name": "stdout",
     "output_type": "stream",
     "text": [
      "(97116, 18) (97116, 1) (24279, 18) (24279, 1)\n"
     ]
    }
   ],
   "source": [
    "print(x_train.shape[:], y_train.shape[:], x_test.shape[:], y_test.shape[:])"
   ]
  },
  {
   "cell_type": "code",
   "execution_count": 9,
   "metadata": {},
   "outputs": [
    {
     "name": "stderr",
     "output_type": "stream",
     "text": [
      "C:\\Users\\tjoeun\\.conda\\envs\\env_cpu\\lib\\site-packages\\ipykernel_launcher.py:7: DataConversionWarning: A column-vector y was passed when a 1d array was expected. Please change the shape of y to (n_samples,), for example using ravel().\n",
      "  import sys\n"
     ]
    },
    {
     "data": {
      "text/plain": [
       "RandomForestRegressor()"
      ]
     },
     "execution_count": 9,
     "metadata": {},
     "output_type": "execute_result"
    }
   ],
   "source": [
    "# Regression part\n",
    "# y변수: diff_days\n",
    "\n",
    "# RMSE 구하기\n",
    "from sklearn.ensemble import RandomForestRegressor\n",
    "model = RandomForestRegressor()\n",
    "model.fit(x_train,y_train)"
   ]
  },
  {
   "cell_type": "code",
   "execution_count": 10,
   "metadata": {},
   "outputs": [
    {
     "name": "stdout",
     "output_type": "stream",
     "text": [
      "MSE: 657.2344621464507 RMSE: 25.636584447746753\n"
     ]
    }
   ],
   "source": [
    "from sklearn.metrics import mean_squared_error\n",
    "y_pred= model.predict(x_test)\n",
    "#y_pred= model.predict(x_train)\n",
    "y_true=y_test\n",
    "\n",
    "rmse_1 = np.sqrt(mean_squared_error(y_true, y_pred))\n",
    "mse_1=mean_squared_error(y_true, y_pred)\n",
    "print('MSE:', mse_1,'RMSE:',rmse_1)"
   ]
  },
  {
   "cell_type": "code",
   "execution_count": 11,
   "metadata": {},
   "outputs": [
    {
     "data": {
      "text/plain": [
       "\"\\n#raw데이터에서 하는 것 \\ndf = pd.DataFrame({'y_true':y_true, 'y_pred':y_pred})\\ncor = df['y_true'].corr(df['y_pred']) \\n# 둘의 상관계수가 -1~1 양수면 양의상관 음수면 음의상관\\n\""
      ]
     },
     "execution_count": 11,
     "metadata": {},
     "output_type": "execute_result"
    }
   ],
   "source": [
    "'''\n",
    "#raw데이터에서 하는 것 \n",
    "df = pd.DataFrame({'y_true':y_true, 'y_pred':y_pred})\n",
    "cor = df['y_true'].corr(df['y_pred']) \n",
    "# 둘의 상관계수가 -1~1 양수면 양의상관 음수면 음의상관\n",
    "'''"
   ]
  },
  {
   "cell_type": "code",
   "execution_count": 12,
   "metadata": {},
   "outputs": [
    {
     "data": {
      "image/png": "[encoded data removed]",
      "text/plain": [
       "<Figure size 432x288 with 1 Axes>"
      ]
     },
     "metadata": {
      "needs_background": "light"
     },
     "output_type": "display_data"
    }
   ],
   "source": [
    "# 그래프\n",
    "# x축: y_true, y축: y_predicted\n",
    "plt.plot(y_pred, y_true, 'o')\n",
    "plt.xlabel('True Value')\n",
    "plt.ylabel('Predicted Value')\n",
    "plt.title('Regression - Random Forest')\n",
    "plt.show()"
   ]
  },
  {
   "cell_type": "code",
   "execution_count": 13,
   "metadata": {},
   "outputs": [],
   "source": [
    "y_test2 = y_test.loc[:, \"diff_days\"] # True 값"
   ]
  },
  {
   "cell_type": "code",
   "execution_count": 15,
   "metadata": {},
   "outputs": [],
   "source": [
    "# y와 y_predicted export\n",
    "d_trueY = pd.DataFrame({'Y_True': y_test2}).reset_index(drop=True)\n",
    "d_predY = pd.DataFrame({'Y_pred': y_pred})"
   ]
  },
  {
   "cell_type": "code",
   "execution_count": 16,
   "metadata": {},
   "outputs": [
    {
     "data": {
      "text/html": [
       "<div>\n",
       "<style scoped>\n",
       "    .dataframe tbody tr th:only-of-type {\n",
       "        vertical-align: middle;\n",
       "    }\n",
       "\n",
       "    .dataframe tbody tr th {\n",
       "        vertical-align: top;\n",
       "    }\n",
       "\n",
       "    .dataframe thead th {\n",
       "        text-align: right;\n",
       "    }\n",
       "</style>\n",
       "<table border=\"1\" class=\"dataframe\">\n",
       "  <thead>\n",
       "    <tr style=\"text-align: right;\">\n",
       "      <th></th>\n",
       "      <th>Y_True</th>\n",
       "      <th>Y_pred</th>\n",
       "    </tr>\n",
       "  </thead>\n",
       "  <tbody>\n",
       "    <tr>\n",
       "      <th>0</th>\n",
       "      <td>18</td>\n",
       "      <td>22.754444</td>\n",
       "    </tr>\n",
       "    <tr>\n",
       "      <th>1</th>\n",
       "      <td>5</td>\n",
       "      <td>6.728062</td>\n",
       "    </tr>\n",
       "    <tr>\n",
       "      <th>2</th>\n",
       "      <td>54</td>\n",
       "      <td>29.540414</td>\n",
       "    </tr>\n",
       "    <tr>\n",
       "      <th>3</th>\n",
       "      <td>43</td>\n",
       "      <td>35.745232</td>\n",
       "    </tr>\n",
       "    <tr>\n",
       "      <th>4</th>\n",
       "      <td>50</td>\n",
       "      <td>20.013958</td>\n",
       "    </tr>\n",
       "    <tr>\n",
       "      <th>...</th>\n",
       "      <td>...</td>\n",
       "      <td>...</td>\n",
       "    </tr>\n",
       "    <tr>\n",
       "      <th>24274</th>\n",
       "      <td>63</td>\n",
       "      <td>17.773906</td>\n",
       "    </tr>\n",
       "    <tr>\n",
       "      <th>24275</th>\n",
       "      <td>61</td>\n",
       "      <td>37.218317</td>\n",
       "    </tr>\n",
       "    <tr>\n",
       "      <th>24276</th>\n",
       "      <td>8</td>\n",
       "      <td>19.748090</td>\n",
       "    </tr>\n",
       "    <tr>\n",
       "      <th>24277</th>\n",
       "      <td>20</td>\n",
       "      <td>34.466303</td>\n",
       "    </tr>\n",
       "    <tr>\n",
       "      <th>24278</th>\n",
       "      <td>33</td>\n",
       "      <td>31.150249</td>\n",
       "    </tr>\n",
       "  </tbody>\n",
       "</table>\n",
       "<p>24279 rows × 2 columns</p>\n",
       "</div>"
      ],
      "text/plain": [
       "       Y_True     Y_pred\n",
       "0          18  22.754444\n",
       "1           5   6.728062\n",
       "2          54  29.540414\n",
       "3          43  35.745232\n",
       "4          50  20.013958\n",
       "...       ...        ...\n",
       "24274      63  17.773906\n",
       "24275      61  37.218317\n",
       "24276       8  19.748090\n",
       "24277      20  34.466303\n",
       "24278      33  31.150249\n",
       "\n",
       "[24279 rows x 2 columns]"
      ]
     },
     "execution_count": 16,
     "metadata": {},
     "output_type": "execute_result"
    }
   ],
   "source": [
    "reg_rdm_frst=pd.concat([d_trueY, d_predY], axis=1).reset_index(drop=True)\n",
    "reg_rdm_frst"
   ]
  }
 ],
 "metadata": {
  "kernelspec": {
   "display_name": "Python [conda env:.conda-env_cpu] *",
   "language": "python",
   "name": "conda-env-.conda-env_cpu-py"
  },
  "language_info": {
   "codemirror_mode": {
    "name": "ipython",
    "version": 3
   },
   "file_extension": ".py",
   "mimetype": "text/x-python",
   "name": "python",
   "nbconvert_exporter": "python",
   "pygments_lexer": "ipython3",
   "version": "3.7.7"
  }
 },
 "nbformat": 4,
 "nbformat_minor": 4
}
