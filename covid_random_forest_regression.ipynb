{
 "cells": [
  {
   "cell_type": "code",
   "execution_count": 1,
   "metadata": {},
   "outputs": [
    {
     "name": "stderr",
     "output_type": "stream",
     "text": [
      "Using TensorFlow backend.\n"
     ]
    }
   ],
   "source": [
    "import sys\n",
    "\n",
    "import numpy as np\n",
    "import matplotlib.pyplot as plt\n",
    "import keras\n",
    "import pandas as pd"
   ]
  },
  {
   "cell_type": "code",
   "execution_count": 2,
   "metadata": {},
   "outputs": [],
   "source": [
    "np.random.seed(777)"
   ]
  },
  {
   "cell_type": "code",
   "execution_count": 3,
   "metadata": {},
   "outputs": [
    {
     "data": {
      "text/plain": [
       "121395"
      ]
     },
     "execution_count": 3,
     "metadata": {},
     "output_type": "execute_result"
    }
   ],
   "source": [
    "df=pd.read_csv('d_final_mehico.csv')\n",
    "# df.head()\n",
    "len(df)"
   ]
  },
  {
   "cell_type": "code",
   "execution_count": 4,
   "metadata": {},
   "outputs": [
    {
     "name": "stdout",
     "output_type": "stream",
     "text": [
      "0    88993\n",
      "1    32402\n",
      "Name: DEATH, dtype: int64\n"
     ]
    }
   ],
   "source": [
    "# 생존자 제거\n",
    "freq = df['DEATH'].value_counts()\n",
    "print(freq)"
   ]
  },
  {
   "cell_type": "code",
   "execution_count": 5,
   "metadata": {},
   "outputs": [],
   "source": [
    "survive = df[df['DEATH']==0].index\n",
    "df1 = df.drop(survive)"
   ]
  },
  {
   "cell_type": "code",
   "execution_count": 6,
   "metadata": {},
   "outputs": [],
   "source": [
    "# featrues; x\n",
    "features= df1.loc[:, ['sex', 'intubed','pneumonia','age_grp','pregnancy', 'diabetes', \n",
    "                 'copd', 'asthma','inmsupr','hypertension','other_disease',\n",
    "                 'cardiovascular','obesity', 'renal_chronic', 'tobacco', \n",
    "                 'contact_other_covid', 'covid_res', 'icu']]\n",
    "\n",
    "# label; y \n",
    "label = df1.loc[:, ['diff_days']] # regression"
   ]
  },
  {
   "cell_type": "code",
   "execution_count": 7,
   "metadata": {},
   "outputs": [
    {
     "data": {
      "text/plain": [
       "array([[0. , 0.5, 1. , ..., 1. , 0. , 0.5],\n",
       "       [1. , 0.5, 0. , ..., 1. , 0. , 0. ],\n",
       "       [1. , 0.5, 0. , ..., 1. , 0. , 0.5],\n",
       "       ...,\n",
       "       [1. , 0.5, 1. , ..., 1. , 1. , 0.5],\n",
       "       [0. , 0. , 0. , ..., 0. , 1. , 0.5],\n",
       "       [1. , 0. , 0. , ..., 0.5, 1. , 0. ]])"
      ]
     },
     "execution_count": 7,
     "metadata": {},
     "output_type": "execute_result"
    }
   ],
   "source": [
    "# 정규화\n",
    "from sklearn.preprocessing import MinMaxScaler\n",
    "feature_n = MinMaxScaler(feature_range=(0,1)).fit_transform(features)\n",
    "feature_n"
   ]
  },
  {
   "cell_type": "code",
   "execution_count": 8,
   "metadata": {},
   "outputs": [],
   "source": [
    "# Train, Test dataset 분리\n",
    "from sklearn.model_selection import train_test_split\n",
    "x_train, x_test, y_train, y_test = train_test_split(features, label, test_size=0.2, random_state=1004)"
   ]
  },
  {
   "cell_type": "code",
   "execution_count": 9,
   "metadata": {},
   "outputs": [
    {
     "name": "stdout",
     "output_type": "stream",
     "text": [
      "(25921, 18) (25921, 1) (6481, 18) (6481, 1)\n"
     ]
    }
   ],
   "source": [
    "print(x_train.shape[:], y_train.shape[:], x_test.shape[:], y_test.shape[:])"
   ]
  },
  {
   "cell_type": "code",
   "execution_count": 10,
   "metadata": {},
   "outputs": [
    {
     "name": "stderr",
     "output_type": "stream",
     "text": [
      "C:\\Users\\Min\\.conda\\envs\\my_python\\lib\\site-packages\\ipykernel_launcher.py:7: DataConversionWarning: A column-vector y was passed when a 1d array was expected. Please change the shape of y to (n_samples,), for example using ravel().\n",
      "  import sys\n"
     ]
    },
    {
     "data": {
      "text/plain": [
       "RandomForestRegressor()"
      ]
     },
     "execution_count": 10,
     "metadata": {},
     "output_type": "execute_result"
    }
   ],
   "source": [
    "# Regression part\n",
    "# y변수: diff_days\n",
    "\n",
    "# RMSE 구하기\n",
    "from sklearn.ensemble import RandomForestRegressor\n",
    "model = RandomForestRegressor()\n",
    "model.fit(x_train,y_train)"
   ]
  },
  {
   "cell_type": "code",
   "execution_count": 11,
   "metadata": {},
   "outputs": [
    {
     "name": "stdout",
     "output_type": "stream",
     "text": [
      "MSE: 57.472281525701504 RMSE: 7.581047521662261\n"
     ]
    }
   ],
   "source": [
    "from sklearn.metrics import mean_squared_error\n",
    "y_pred= model.predict(x_test)\n",
    "#y_pred= model.predict(x_train)\n",
    "y_true=y_test\n",
    "\n",
    "rmse_1 = np.sqrt(mean_squared_error(y_true, y_pred))\n",
    "mse_1=mean_squared_error(y_true, y_pred)\n",
    "print('MSE:', mse_1,'RMSE:',rmse_1)\n",
    "# MSE: 57.472281525701504 RMSE: 7.581047521662261"
   ]
  },
  {
   "cell_type": "code",
   "execution_count": 13,
   "metadata": {},
   "outputs": [
    {
     "data": {
      "image/png": "[encoded data removed]",
      "text/plain": [
       "<Figure size 432x288 with 1 Axes>"
      ]
     },
     "metadata": {
      "needs_background": "light"
     },
     "output_type": "display_data"
    }
   ],
   "source": [
    "# 그래프\n",
    "# x축: y_true, y축: y_predicted\n",
    "plt.plot(y_pred, y_true, 'o')\n",
    "plt.xlabel('True Value')\n",
    "plt.ylabel('Predicted Value')\n",
    "plt.title('Regression - Random Forest')\n",
    "plt.show()"
   ]
  },
  {
   "cell_type": "code",
   "execution_count": 14,
   "metadata": {},
   "outputs": [],
   "source": [
    "y_test2 = y_test.loc[:, \"diff_days\"] # True 값"
   ]
  },
  {
   "cell_type": "code",
   "execution_count": 15,
   "metadata": {},
   "outputs": [],
   "source": [
    "# y와 y_predicted export\n",
    "d_trueY = pd.DataFrame({'Y_True': y_test2}).reset_index(drop=True)\n",
    "d_predY = pd.DataFrame({'Y_pred': y_pred})"
   ]
  },
  {
   "cell_type": "code",
   "execution_count": 16,
   "metadata": {},
   "outputs": [
    {
     "data": {
      "text/html": [
       "<div>\n",
       "<style scoped>\n",
       "    .dataframe tbody tr th:only-of-type {\n",
       "        vertical-align: middle;\n",
       "    }\n",
       "\n",
       "    .dataframe tbody tr th {\n",
       "        vertical-align: top;\n",
       "    }\n",
       "\n",
       "    .dataframe thead th {\n",
       "        text-align: right;\n",
       "    }\n",
       "</style>\n",
       "<table border=\"1\" class=\"dataframe\">\n",
       "  <thead>\n",
       "    <tr style=\"text-align: right;\">\n",
       "      <th></th>\n",
       "      <th>Y_True</th>\n",
       "      <th>Y_pred</th>\n",
       "    </tr>\n",
       "  </thead>\n",
       "  <tbody>\n",
       "    <tr>\n",
       "      <th>0</th>\n",
       "      <td>8</td>\n",
       "      <td>5.933333</td>\n",
       "    </tr>\n",
       "    <tr>\n",
       "      <th>1</th>\n",
       "      <td>14</td>\n",
       "      <td>10.234286</td>\n",
       "    </tr>\n",
       "    <tr>\n",
       "      <th>2</th>\n",
       "      <td>7</td>\n",
       "      <td>11.663689</td>\n",
       "    </tr>\n",
       "    <tr>\n",
       "      <th>3</th>\n",
       "      <td>15</td>\n",
       "      <td>8.213722</td>\n",
       "    </tr>\n",
       "    <tr>\n",
       "      <th>4</th>\n",
       "      <td>16</td>\n",
       "      <td>13.546396</td>\n",
       "    </tr>\n",
       "    <tr>\n",
       "      <th>...</th>\n",
       "      <td>...</td>\n",
       "      <td>...</td>\n",
       "    </tr>\n",
       "    <tr>\n",
       "      <th>6476</th>\n",
       "      <td>11</td>\n",
       "      <td>10.984271</td>\n",
       "    </tr>\n",
       "    <tr>\n",
       "      <th>6477</th>\n",
       "      <td>17</td>\n",
       "      <td>8.562773</td>\n",
       "    </tr>\n",
       "    <tr>\n",
       "      <th>6478</th>\n",
       "      <td>16</td>\n",
       "      <td>11.134018</td>\n",
       "    </tr>\n",
       "    <tr>\n",
       "      <th>6479</th>\n",
       "      <td>15</td>\n",
       "      <td>10.748411</td>\n",
       "    </tr>\n",
       "    <tr>\n",
       "      <th>6480</th>\n",
       "      <td>11</td>\n",
       "      <td>11.218563</td>\n",
       "    </tr>\n",
       "  </tbody>\n",
       "</table>\n",
       "<p>6481 rows × 2 columns</p>\n",
       "</div>"
      ],
      "text/plain": [
       "      Y_True     Y_pred\n",
       "0          8   5.933333\n",
       "1         14  10.234286\n",
       "2          7  11.663689\n",
       "3         15   8.213722\n",
       "4         16  13.546396\n",
       "...      ...        ...\n",
       "6476      11  10.984271\n",
       "6477      17   8.562773\n",
       "6478      16  11.134018\n",
       "6479      15  10.748411\n",
       "6480      11  11.218563\n",
       "\n",
       "[6481 rows x 2 columns]"
      ]
     },
     "execution_count": 16,
     "metadata": {},
     "output_type": "execute_result"
    }
   ],
   "source": [
    "reg_rdm_frst=pd.concat([d_trueY, d_predY], axis=1).reset_index(drop=True)\n",
    "reg_rdm_frst"
   ]
  },
  {
   "cell_type": "code",
   "execution_count": 17,
   "metadata": {},
   "outputs": [],
   "source": [
    "reg_rdm_frst.to_csv('reg_randomforest.csv', encoding='utf-8', index=False, line_terminator='\\n')"
   ]
  }
 ],
 "metadata": {
  "kernelspec": {
   "display_name": "Python 3",
   "language": "python",
   "name": "python3"
  },
  "language_info": {
   "codemirror_mode": {
    "name": "ipython",
    "version": 3
   },
   "file_extension": ".py",
   "mimetype": "text/x-python",
   "name": "python",
   "nbconvert_exporter": "python",
   "pygments_lexer": "ipython3",
   "version": "3.7.9"
  }
 },
 "nbformat": 4,
 "nbformat_minor": 4
}
