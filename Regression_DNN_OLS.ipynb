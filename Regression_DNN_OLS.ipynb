{
 "cells": [
  {
   "cell_type": "code",
   "execution_count": 1,
   "metadata": {},
   "outputs": [],
   "source": [
    "import numpy as np\n",
    "import pandas as pd\n",
    "import matplotlib.pyplot as plt\n",
    "import tensorflow as tf\n",
    "\n",
    "from sklearn import preprocessing\n",
    "from sklearn.model_selection import train_test_split\n",
    "\n",
    "from sklearn.metrics import accuracy_score\n",
    "from sklearn.metrics import confusion_matrix\n",
    "from sklearn.metrics import classification_report\n",
    "from sklearn.metrics import mean_squared_error\n",
    "\n",
    "from sklearn.metrics import roc_curve, precision_score, recall_score, f1_score, accuracy_score, auc\n",
    "\n",
    "import statsmodels.api as sm"
   ]
  },
  {
   "cell_type": "markdown",
   "metadata": {},
   "source": [
    "# Data Modeling"
   ]
  },
  {
   "cell_type": "code",
   "execution_count": 2,
   "metadata": {},
   "outputs": [],
   "source": [
    "df = pd.read_csv('d_final.csv', encoding = 'utf-8')"
   ]
  },
  {
   "cell_type": "code",
   "execution_count": 3,
   "metadata": {},
   "outputs": [
    {
     "data": {
      "text/html": [
       "<div>\n",
       "<style scoped>\n",
       "    .dataframe tbody tr th:only-of-type {\n",
       "        vertical-align: middle;\n",
       "    }\n",
       "\n",
       "    .dataframe tbody tr th {\n",
       "        vertical-align: top;\n",
       "    }\n",
       "\n",
       "    .dataframe thead th {\n",
       "        text-align: right;\n",
       "    }\n",
       "</style>\n",
       "<table border=\"1\" class=\"dataframe\">\n",
       "  <thead>\n",
       "    <tr style=\"text-align: right;\">\n",
       "      <th></th>\n",
       "      <th>id</th>\n",
       "      <th>sex</th>\n",
       "      <th>intubed</th>\n",
       "      <th>pneumonia</th>\n",
       "      <th>age</th>\n",
       "      <th>pregnancy</th>\n",
       "      <th>diabetes</th>\n",
       "      <th>copd</th>\n",
       "      <th>asthma</th>\n",
       "      <th>inmsupr</th>\n",
       "      <th>...</th>\n",
       "      <th>tobacco</th>\n",
       "      <th>contact_other_covid</th>\n",
       "      <th>covid_res</th>\n",
       "      <th>icu</th>\n",
       "      <th>DEATH</th>\n",
       "      <th>d_ent</th>\n",
       "      <th>d_sym</th>\n",
       "      <th>d_last</th>\n",
       "      <th>diff_days</th>\n",
       "      <th>age_grp</th>\n",
       "    </tr>\n",
       "  </thead>\n",
       "  <tbody>\n",
       "    <tr>\n",
       "      <th>0</th>\n",
       "      <td>167386</td>\n",
       "      <td>1</td>\n",
       "      <td>2</td>\n",
       "      <td>2</td>\n",
       "      <td>54</td>\n",
       "      <td>2</td>\n",
       "      <td>2</td>\n",
       "      <td>2</td>\n",
       "      <td>2</td>\n",
       "      <td>2</td>\n",
       "      <td>...</td>\n",
       "      <td>2</td>\n",
       "      <td>3</td>\n",
       "      <td>1</td>\n",
       "      <td>2</td>\n",
       "      <td>0</td>\n",
       "      <td>2020-04-06</td>\n",
       "      <td>2020-04-01</td>\n",
       "      <td>2020-06-29</td>\n",
       "      <td>89</td>\n",
       "      <td>3.0</td>\n",
       "    </tr>\n",
       "    <tr>\n",
       "      <th>1</th>\n",
       "      <td>0b5948</td>\n",
       "      <td>2</td>\n",
       "      <td>2</td>\n",
       "      <td>1</td>\n",
       "      <td>30</td>\n",
       "      <td>2</td>\n",
       "      <td>2</td>\n",
       "      <td>2</td>\n",
       "      <td>2</td>\n",
       "      <td>2</td>\n",
       "      <td>...</td>\n",
       "      <td>2</td>\n",
       "      <td>3</td>\n",
       "      <td>1</td>\n",
       "      <td>2</td>\n",
       "      <td>0</td>\n",
       "      <td>2020-04-17</td>\n",
       "      <td>2020-04-10</td>\n",
       "      <td>2020-06-29</td>\n",
       "      <td>80</td>\n",
       "      <td>2.0</td>\n",
       "    </tr>\n",
       "    <tr>\n",
       "      <th>2</th>\n",
       "      <td>0d01b5</td>\n",
       "      <td>1</td>\n",
       "      <td>2</td>\n",
       "      <td>2</td>\n",
       "      <td>60</td>\n",
       "      <td>2</td>\n",
       "      <td>1</td>\n",
       "      <td>2</td>\n",
       "      <td>2</td>\n",
       "      <td>2</td>\n",
       "      <td>...</td>\n",
       "      <td>2</td>\n",
       "      <td>3</td>\n",
       "      <td>1</td>\n",
       "      <td>2</td>\n",
       "      <td>1</td>\n",
       "      <td>2020-04-13</td>\n",
       "      <td>2020-04-13</td>\n",
       "      <td>2020-04-22</td>\n",
       "      <td>9</td>\n",
       "      <td>4.0</td>\n",
       "    </tr>\n",
       "    <tr>\n",
       "      <th>3</th>\n",
       "      <td>1beec8</td>\n",
       "      <td>2</td>\n",
       "      <td>2</td>\n",
       "      <td>1</td>\n",
       "      <td>47</td>\n",
       "      <td>2</td>\n",
       "      <td>1</td>\n",
       "      <td>2</td>\n",
       "      <td>2</td>\n",
       "      <td>2</td>\n",
       "      <td>...</td>\n",
       "      <td>2</td>\n",
       "      <td>3</td>\n",
       "      <td>1</td>\n",
       "      <td>1</td>\n",
       "      <td>1</td>\n",
       "      <td>2020-04-16</td>\n",
       "      <td>2020-04-16</td>\n",
       "      <td>2020-04-29</td>\n",
       "      <td>13</td>\n",
       "      <td>3.0</td>\n",
       "    </tr>\n",
       "    <tr>\n",
       "      <th>4</th>\n",
       "      <td>1.75E+56</td>\n",
       "      <td>2</td>\n",
       "      <td>2</td>\n",
       "      <td>2</td>\n",
       "      <td>63</td>\n",
       "      <td>2</td>\n",
       "      <td>2</td>\n",
       "      <td>2</td>\n",
       "      <td>2</td>\n",
       "      <td>2</td>\n",
       "      <td>...</td>\n",
       "      <td>2</td>\n",
       "      <td>3</td>\n",
       "      <td>1</td>\n",
       "      <td>2</td>\n",
       "      <td>0</td>\n",
       "      <td>2020-04-22</td>\n",
       "      <td>2020-04-13</td>\n",
       "      <td>2020-06-29</td>\n",
       "      <td>77</td>\n",
       "      <td>4.0</td>\n",
       "    </tr>\n",
       "  </tbody>\n",
       "</table>\n",
       "<p>5 rows × 25 columns</p>\n",
       "</div>"
      ],
      "text/plain": [
       "         id  sex  intubed  pneumonia  age  pregnancy  diabetes  copd  asthma  \\\n",
       "0    167386    1        2          2   54          2         2     2       2   \n",
       "1    0b5948    2        2          1   30          2         2     2       2   \n",
       "2    0d01b5    1        2          2   60          2         1     2       2   \n",
       "3    1beec8    2        2          1   47          2         1     2       2   \n",
       "4  1.75E+56    2        2          2   63          2         2     2       2   \n",
       "\n",
       "   inmsupr   ...     tobacco  contact_other_covid  covid_res  icu  DEATH  \\\n",
       "0        2   ...           2                    3          1    2      0   \n",
       "1        2   ...           2                    3          1    2      0   \n",
       "2        2   ...           2                    3          1    2      1   \n",
       "3        2   ...           2                    3          1    1      1   \n",
       "4        2   ...           2                    3          1    2      0   \n",
       "\n",
       "        d_ent       d_sym      d_last  diff_days  age_grp  \n",
       "0  2020-04-06  2020-04-01  2020-06-29         89      3.0  \n",
       "1  2020-04-17  2020-04-10  2020-06-29         80      2.0  \n",
       "2  2020-04-13  2020-04-13  2020-04-22          9      4.0  \n",
       "3  2020-04-16  2020-04-16  2020-04-29         13      3.0  \n",
       "4  2020-04-22  2020-04-13  2020-06-29         77      4.0  \n",
       "\n",
       "[5 rows x 25 columns]"
      ]
     },
     "execution_count": 3,
     "metadata": {},
     "output_type": "execute_result"
    }
   ],
   "source": [
    "df.head()"
   ]
  },
  {
   "cell_type": "code",
   "execution_count": 4,
   "metadata": {},
   "outputs": [
    {
     "data": {
      "text/plain": [
       "0    88993\n",
       "1    32402\n",
       "Name: DEATH, dtype: int64"
      ]
     },
     "execution_count": 4,
     "metadata": {},
     "output_type": "execute_result"
    }
   ],
   "source": [
    "df['DEATH'].value_counts()"
   ]
  },
  {
   "cell_type": "markdown",
   "metadata": {},
   "source": [
    "### 사망기간 예측을 위한 생존자 데이터 제거\n",
    "\n"
   ]
  },
  {
   "cell_type": "code",
   "execution_count": 5,
   "metadata": {},
   "outputs": [],
   "source": [
    "df['DEATH'] = df['DEATH'].replace(0, np.nan)\n",
    "df.dropna(inplace=True)"
   ]
  },
  {
   "cell_type": "code",
   "execution_count": 6,
   "metadata": {},
   "outputs": [
    {
     "data": {
      "text/plain": [
       "1.0    32402\n",
       "Name: DEATH, dtype: int64"
      ]
     },
     "execution_count": 6,
     "metadata": {},
     "output_type": "execute_result"
    }
   ],
   "source": [
    "df['DEATH'].value_counts()"
   ]
  },
  {
   "cell_type": "markdown",
   "metadata": {},
   "source": [
    "### 변수 설정\n",
    "\n",
    "- 정규화할 변수만 독립변수 X에 저장\n",
    "- 종속변수 Y는 정규화 안하고 저장"
   ]
  },
  {
   "cell_type": "code",
   "execution_count": 7,
   "metadata": {},
   "outputs": [],
   "source": [
    "X = df[['sex', 'intubed','age_grp','pneumonia',\n",
    "        'pregnancy', 'diabetes', 'copd', 'asthma',\n",
    "        'inmsupr','hypertension','other_disease',\n",
    "        'cardiovascular','obesity', 'renal_chronic', \n",
    "        'tobacco', 'contact_other_covid', 'covid_res', \n",
    "        'icu']]\n",
    "\n",
    "Y = df['diff_days']"
   ]
  },
  {
   "cell_type": "markdown",
   "metadata": {},
   "source": [
    "### 정규화"
   ]
  },
  {
   "cell_type": "code",
   "execution_count": 8,
   "metadata": {},
   "outputs": [],
   "source": [
    "min_max_scaler = preprocessing.MinMaxScaler()\n",
    "x_scaled = min_max_scaler.fit_transform(X)\n",
    "X = pd.DataFrame(x_scaled)"
   ]
  },
  {
   "cell_type": "markdown",
   "metadata": {},
   "source": [
    "##### train/test 데이터 셋 분리"
   ]
  },
  {
   "cell_type": "code",
   "execution_count": 9,
   "metadata": {},
   "outputs": [],
   "source": [
    "x_train, x_test, y_train, y_test = train_test_split(X, Y, test_size = 0.2, shuffle = True, random_state = 1004)"
   ]
  },
  {
   "cell_type": "code",
   "execution_count": 10,
   "metadata": {},
   "outputs": [
    {
     "name": "stdout",
     "output_type": "stream",
     "text": [
      "(25921, 18) (6481, 18) (25921,) (6481,)\n"
     ]
    }
   ],
   "source": [
    "print(x_train.shape, x_test.shape, y_train.shape, y_test.shape)"
   ]
  },
  {
   "cell_type": "markdown",
   "metadata": {},
   "source": [
    "### Tensorflow 탑재를 위한 차원 변경\n",
    "\n",
    "- y의 시리즈 데이터를 데이터 프레임으로 변환"
   ]
  },
  {
   "cell_type": "code",
   "execution_count": 11,
   "metadata": {},
   "outputs": [],
   "source": [
    "y_train2 = y_train.values.reshape(25921, 1)\n",
    "y_test2 = y_test.values.reshape(6481, 1)"
   ]
  },
  {
   "cell_type": "code",
   "execution_count": 12,
   "metadata": {},
   "outputs": [
    {
     "name": "stdout",
     "output_type": "stream",
     "text": [
      "(25921, 18) (25921, 1)\n",
      "(6481, 18) (6481, 1)\n"
     ]
    }
   ],
   "source": [
    "print(x_train.shape, y_train2.shape)\n",
    "print(x_test.shape, y_test2.shape)"
   ]
  },
  {
   "cell_type": "markdown",
   "metadata": {},
   "source": [
    "### Tensorflow 환경 설정\n",
    "- Tensorflow 1 버전으로 작성\n",
    "- multivariable linear regression 모델"
   ]
  },
  {
   "cell_type": "markdown",
   "metadata": {},
   "source": [
    "##### 변수 선언"
   ]
  },
  {
   "cell_type": "code",
   "execution_count": 13,
   "metadata": {},
   "outputs": [],
   "source": [
    "x = tf.placeholder(tf.float32, shape=[None, 18])\n",
    "y = tf.placeholder(tf.float32, shape=[None, 1])\n",
    "\n",
    "w = tf.Variable(tf.random_normal([18, 1]), name='weight')\n",
    "b = tf.Variable(tf.random_normal([1]), name='bias')"
   ]
  },
  {
   "cell_type": "markdown",
   "metadata": {},
   "source": [
    "##### 가설 함수 정의 ( Y = XW + B )"
   ]
  },
  {
   "cell_type": "code",
   "execution_count": 14,
   "metadata": {},
   "outputs": [],
   "source": [
    "hypothesis = tf.matmul(x,w)+b"
   ]
  },
  {
   "cell_type": "markdown",
   "metadata": {},
   "source": [
    "##### 손실 함수 정의 (MSE)"
   ]
  },
  {
   "cell_type": "code",
   "execution_count": 15,
   "metadata": {},
   "outputs": [],
   "source": [
    "loss = tf.reduce_mean(tf.square(hypothesis - y))"
   ]
  },
  {
   "cell_type": "markdown",
   "metadata": {},
   "source": [
    "##### 경사하강법 알고리즘"
   ]
  },
  {
   "cell_type": "code",
   "execution_count": 16,
   "metadata": {},
   "outputs": [],
   "source": [
    "# train = tf.train.GradientDescentOptimizer(learning_rate=0.001).minimize(loss)"
   ]
  },
  {
   "cell_type": "code",
   "execution_count": 17,
   "metadata": {},
   "outputs": [],
   "source": [
    "optimizer = tf.train.GradientDescentOptimizer(learning_rate=0.01)\n",
    "train = optimizer.minimize(loss)"
   ]
  },
  {
   "cell_type": "markdown",
   "metadata": {},
   "source": [
    "- learning_rate 값을 수정해서 손실 값 0에 가깝게 맞추면 된다."
   ]
  },
  {
   "cell_type": "code",
   "execution_count": 18,
   "metadata": {},
   "outputs": [
    {
     "name": "stdout",
     "output_type": "stream",
     "text": [
      "0 \n",
      " Loss:  95.33355 \n",
      " accur: \n",
      " [[4.3433285]\n",
      " [4.0427837]\n",
      " [5.326174 ]\n",
      " ...\n",
      " [4.0957117]\n",
      " [4.066324 ]\n",
      " [4.183013 ]]\n",
      "200 \n",
      " Loss:  58.07199 \n",
      " accur: \n",
      " [[10.758865]\n",
      " [ 9.52886 ]\n",
      " [11.319885]\n",
      " ...\n",
      " [10.39646 ]\n",
      " [10.643024]\n",
      " [10.981123]]\n",
      "400 \n",
      " Loss:  57.12171 \n",
      " accur: \n",
      " [[11.036359]\n",
      " [ 9.86895 ]\n",
      " [11.257344]\n",
      " ...\n",
      " [10.583077]\n",
      " [11.065076]\n",
      " [11.488829]]\n",
      "600 \n",
      " Loss:  56.673264 \n",
      " accur: \n",
      " [[11.154238]\n",
      " [10.053831]\n",
      " [11.16747 ]\n",
      " ...\n",
      " [10.620775]\n",
      " [11.226806]\n",
      " [11.761897]]\n",
      "800 \n",
      " Loss:  56.397324 \n",
      " accur: \n",
      " [[11.207802]\n",
      " [10.152731]\n",
      " [11.086081]\n",
      " ...\n",
      " [10.601545]\n",
      " [11.2733  ]\n",
      " [11.923813]]\n",
      "1000 \n",
      " Loss:  56.202183 \n",
      " accur: \n",
      " [[11.23631 ]\n",
      " [10.204933]\n",
      " [11.022793]\n",
      " ...\n",
      " [10.563192]\n",
      " [11.268658]\n",
      " [12.029217]]\n",
      "1200 \n",
      " Loss:  56.05447 \n",
      " accur: \n",
      " [[11.2559185]\n",
      " [10.232124 ]\n",
      " [10.978003 ]\n",
      " ...\n",
      " [10.521115 ]\n",
      " [11.241987 ]\n",
      " [12.103298 ]]\n",
      "1400 \n",
      " Loss:  55.938236 \n",
      " accur: \n",
      " [[11.273184]\n",
      " [10.246109]\n",
      " [10.949276]\n",
      " ...\n",
      " [10.48139 ]\n",
      " [11.206896]\n",
      " [12.158356]]\n",
      "1600 \n",
      " Loss:  55.844353 \n",
      " accur: \n",
      " [[11.290647]\n",
      " [10.253273]\n",
      " [10.93366 ]\n",
      " ...\n",
      " [10.446179]\n",
      " [11.169907]\n",
      " [12.20084 ]]\n",
      "1800 \n",
      " Loss:  55.766888 \n",
      " accur: \n",
      " [[11.3091545]\n",
      " [10.257063 ]\n",
      " [10.92844  ]\n",
      " ...\n",
      " [10.416017 ]\n",
      " [11.1341715]\n",
      " [12.234439 ]]\n",
      "2000 \n",
      " Loss:  55.7018 \n",
      " accur: \n",
      " [[11.32885 ]\n",
      " [10.259338]\n",
      " [10.931326]\n",
      " ...\n",
      " [10.390753]\n",
      " [11.101176]\n",
      " [12.261436]]\n",
      "2200 \n",
      " Loss:  55.646393 \n",
      " accur: \n",
      " [[11.3495865]\n",
      " [10.2610855]\n",
      " [10.940453 ]\n",
      " ...\n",
      " [10.369978 ]\n",
      " [11.071541 ]\n",
      " [12.283363 ]]\n",
      "2400 \n",
      " Loss:  55.598522 \n",
      " accur: \n",
      " [[11.371116]\n",
      " [10.262822]\n",
      " [10.954321]\n",
      " ...\n",
      " [10.353196]\n",
      " [11.04543 ]\n",
      " [12.301293]]\n",
      "2600 \n",
      " Loss:  55.55677 \n",
      " accur: \n",
      " [[11.393167 ]\n",
      " [10.264799 ]\n",
      " [10.971729 ]\n",
      " ...\n",
      " [10.339907 ]\n",
      " [11.02276  ]\n",
      " [12.3160305]]\n",
      "2800 \n",
      " Loss:  55.520027 \n",
      " accur: \n",
      " [[11.415482 ]\n",
      " [10.2671175]\n",
      " [10.99172  ]\n",
      " ...\n",
      " [10.329638 ]\n",
      " [11.003319 ]\n",
      " [12.328183 ]]\n",
      "3000 \n",
      " Loss:  55.48749 \n",
      " accur: \n",
      " [[11.437834]\n",
      " [10.269802]\n",
      " [11.013527]\n",
      " ...\n",
      " [10.321961]\n",
      " [10.986832]\n",
      " [12.338226]]\n",
      "3200 \n",
      " Loss:  55.458397 \n",
      " accur: \n",
      " [[11.460023]\n",
      " [10.272831]\n",
      " [11.036535]\n",
      " ...\n",
      " [10.316492]\n",
      " [10.973   ]\n",
      " [12.346537]]\n",
      "3400 \n",
      " Loss:  55.432266 \n",
      " accur: \n",
      " [[11.481885]\n",
      " [10.276156]\n",
      " [11.060259]\n",
      " ...\n",
      " [10.312893]\n",
      " [10.961523]\n",
      " [12.353415]]\n",
      "3600 \n",
      " Loss:  55.408722 \n",
      " accur: \n",
      " [[11.503284]\n",
      " [10.279726]\n",
      " [11.084309]\n",
      " ...\n",
      " [10.310868]\n",
      " [10.952115]\n",
      " [12.359106]]\n",
      "3800 \n",
      " Loss:  55.387413 \n",
      " accur: \n",
      " [[11.5241165]\n",
      " [10.2834835]\n",
      " [11.108379 ]\n",
      " ...\n",
      " [10.310158 ]\n",
      " [10.944511 ]\n",
      " [12.363811 ]]\n",
      "4000 \n",
      " Loss:  55.367977 \n",
      " accur: \n",
      " [[11.544297 ]\n",
      " [10.2873745]\n",
      " [11.132229 ]\n",
      " ...\n",
      " [10.31054  ]\n",
      " [10.938467 ]\n",
      " [12.367693 ]]\n",
      "4200 \n",
      " Loss:  55.35032 \n",
      " accur: \n",
      " [[11.563766 ]\n",
      " [10.2913475]\n",
      " [11.155667 ]\n",
      " ...\n",
      " [10.311823 ]\n",
      " [10.9337635]\n",
      " [12.370888 ]]\n",
      "4400 \n",
      " Loss:  55.334156 \n",
      " accur: \n",
      " [[11.5824795]\n",
      " [10.295359 ]\n",
      " [11.178555 ]\n",
      " ...\n",
      " [10.313843 ]\n",
      " [10.930208 ]\n",
      " [12.37351  ]]\n",
      "4600 \n",
      " Loss:  55.319397 \n",
      " accur: \n",
      " [[11.60041 ]\n",
      " [10.299373]\n",
      " [11.200781]\n",
      " ...\n",
      " [10.316459]\n",
      " [10.927632]\n",
      " [12.375654]]\n",
      "4800 \n",
      " Loss:  55.305798 \n",
      " accur: \n",
      " [[11.617542 ]\n",
      " [10.303354 ]\n",
      " [11.222265 ]\n",
      " ...\n",
      " [10.3195505]\n",
      " [10.925882 ]\n",
      " [12.377399 ]]\n",
      "5000 \n",
      " Loss:  55.293358 \n",
      " accur: \n",
      " [[11.633873]\n",
      " [10.307279]\n",
      " [11.242953]\n",
      " ...\n",
      " [10.323017]\n",
      " [10.924831]\n",
      " [12.378811]]\n",
      "5200 \n",
      " Loss:  55.28184 \n",
      " accur: \n",
      " [[11.649406]\n",
      " [10.311123]\n",
      " [11.26281 ]\n",
      " ...\n",
      " [10.326769]\n",
      " [10.924364]\n",
      " [12.379944]]\n",
      "5400 \n",
      " Loss:  55.271236 \n",
      " accur: \n",
      " [[11.664152]\n",
      " [10.314871]\n",
      " [11.281809]\n",
      " ...\n",
      " [10.330736]\n",
      " [10.924383]\n",
      " [12.380848]]\n",
      "5600 \n",
      " Loss:  55.261467 \n",
      " accur: \n",
      " [[11.678127 ]\n",
      " [10.318511 ]\n",
      " [11.299948 ]\n",
      " ...\n",
      " [10.334857 ]\n",
      " [10.9248085]\n",
      " [12.381559 ]]\n",
      "5800 \n",
      " Loss:  55.25244 \n",
      " accur: \n",
      " [[11.691351]\n",
      " [10.322032]\n",
      " [11.317223]\n",
      " ...\n",
      " [10.339079]\n",
      " [10.925565]\n",
      " [12.382116]]\n",
      "6000 \n",
      " Loss:  55.244087 \n",
      " accur: \n",
      " [[11.703848]\n",
      " [10.325428]\n",
      " [11.333643]\n",
      " ...\n",
      " [10.343356]\n",
      " [10.92659 ]\n",
      " [12.382542]]\n",
      "\n",
      "Test-set: \n",
      " [[ 7.0669622]\n",
      " [10.719974 ]\n",
      " [10.35009  ]\n",
      " ...\n",
      " [11.1555805]\n",
      " [10.422047 ]\n",
      " [11.759178 ]]\n"
     ]
    }
   ],
   "source": [
    "with tf.Session() as sess:\n",
    "    sess.run(tf.global_variables_initializer())\n",
    "    \n",
    "    for step in range(6001):\n",
    "        loss_val, hy_val, _ = sess.run([loss, hypothesis, train],\n",
    "                                       feed_dict={x:x_train, y:y_train2})\n",
    "        \n",
    "        if step % 200 == 0:\n",
    "            print(step, \"\\n Loss: \", loss_val, \"\\n accur: \\n\", hy_val)\n",
    "            \n",
    "    pred = sess.run(hypothesis, feed_dict={x:x_test})\n",
    "    print(\"\\nTest-set: \\n\", pred)"
   ]
  },
  {
   "cell_type": "markdown",
   "metadata": {},
   "source": [
    "##### classification report"
   ]
  },
  {
   "cell_type": "code",
   "execution_count": 19,
   "metadata": {},
   "outputs": [
    {
     "name": "stdout",
     "output_type": "stream",
     "text": [
      "MSE : 52.509\n",
      "RMSE : 7.246\n"
     ]
    }
   ],
   "source": [
    "mse = mean_squared_error(y_test, pred)\n",
    "rmse = np.sqrt(mean_squared_error(y_test, pred))\n",
    "print('MSE : %.3f' % (mse))\n",
    "print('RMSE : %.3f' % (rmse))"
   ]
  },
  {
   "cell_type": "markdown",
   "metadata": {},
   "source": [
    "## 시각화"
   ]
  },
  {
   "cell_type": "code",
   "execution_count": 20,
   "metadata": {},
   "outputs": [
    {
     "data": {
      "image/png": "[encoded data removed]",
      "text/plain": [
       "<Figure size 576x576 with 1 Axes>"
      ]
     },
     "metadata": {
      "needs_background": "light"
     },
     "output_type": "display_data"
    }
   ],
   "source": [
    "plt.figure(figsize=(8,8))\n",
    "\n",
    "plt.rc('axes', titlesize=25)   \n",
    "plt.rc('axes', labelsize=20)  \n",
    "plt.rc('xtick', labelsize=15)   \n",
    "plt.rc('ytick', labelsize=15) \n",
    "plt.rc('legend', fontsize=13)\n",
    "\n",
    "plt.plot(y_test, pred,  'x')\n",
    "plt.plot([0,20],[0,20], 'k--', linewidth=2, label=\"regression_line\")\n",
    "plt.xlabel('True Value')\n",
    "plt.ylabel('Predicted Value')\n",
    "plt.title('Linear Regression - DNN')\n",
    "plt.legend()\n",
    "\n",
    "plt.savefig('result/img/reg_dnn.png', dpi=300)"
   ]
  },
  {
   "cell_type": "markdown",
   "metadata": {},
   "source": [
    "##### Pred, True, Error table"
   ]
  },
  {
   "cell_type": "code",
   "execution_count": 21,
   "metadata": {},
   "outputs": [],
   "source": [
    "pred = pred.reshape(6481,)"
   ]
  },
  {
   "cell_type": "code",
   "execution_count": 22,
   "metadata": {},
   "outputs": [
    {
     "data": {
      "text/html": [
       "<div>\n",
       "<style scoped>\n",
       "    .dataframe tbody tr th:only-of-type {\n",
       "        vertical-align: middle;\n",
       "    }\n",
       "\n",
       "    .dataframe tbody tr th {\n",
       "        vertical-align: top;\n",
       "    }\n",
       "\n",
       "    .dataframe thead th {\n",
       "        text-align: right;\n",
       "    }\n",
       "</style>\n",
       "<table border=\"1\" class=\"dataframe\">\n",
       "  <thead>\n",
       "    <tr style=\"text-align: right;\">\n",
       "      <th></th>\n",
       "      <th>pred</th>\n",
       "      <th>y_true</th>\n",
       "    </tr>\n",
       "  </thead>\n",
       "  <tbody>\n",
       "    <tr>\n",
       "      <th>6476</th>\n",
       "      <td>11.0</td>\n",
       "      <td>11</td>\n",
       "    </tr>\n",
       "    <tr>\n",
       "      <th>6477</th>\n",
       "      <td>11.0</td>\n",
       "      <td>17</td>\n",
       "    </tr>\n",
       "    <tr>\n",
       "      <th>6478</th>\n",
       "      <td>11.0</td>\n",
       "      <td>16</td>\n",
       "    </tr>\n",
       "    <tr>\n",
       "      <th>6479</th>\n",
       "      <td>10.0</td>\n",
       "      <td>15</td>\n",
       "    </tr>\n",
       "    <tr>\n",
       "      <th>6480</th>\n",
       "      <td>12.0</td>\n",
       "      <td>11</td>\n",
       "    </tr>\n",
       "  </tbody>\n",
       "</table>\n",
       "</div>"
      ],
      "text/plain": [
       "      pred  y_true\n",
       "6476  11.0      11\n",
       "6477  11.0      17\n",
       "6478  11.0      16\n",
       "6479  10.0      15\n",
       "6480  12.0      11"
      ]
     },
     "execution_count": 22,
     "metadata": {},
     "output_type": "execute_result"
    }
   ],
   "source": [
    "c = {'y_true': y_test, 'pred': pred.round()}\n",
    "\n",
    "pred_diff = pd.DataFrame(data=c).reset_index()\n",
    "pred_diff = pred_diff.drop(['index'], axis=1).reset_index(drop=True)\n",
    "pred_diff.tail()"
   ]
  },
  {
   "cell_type": "code",
   "execution_count": 23,
   "metadata": {},
   "outputs": [],
   "source": [
    "pred_diff.to_csv('reg_dnn.csv', encoding='utf-8', index=False, line_terminator='\\n')"
   ]
  },
  {
   "cell_type": "markdown",
   "metadata": {},
   "source": [
    "## OLS Estimation"
   ]
  },
  {
   "cell_type": "markdown",
   "metadata": {},
   "source": [
    "##### 데이터 로드"
   ]
  },
  {
   "cell_type": "code",
   "execution_count": 24,
   "metadata": {},
   "outputs": [],
   "source": [
    "x_ols = X\n",
    "y_ols = Y"
   ]
  },
  {
   "cell_type": "markdown",
   "metadata": {},
   "source": [
    "##### 정규화 적용"
   ]
  },
  {
   "cell_type": "code",
   "execution_count": 25,
   "metadata": {},
   "outputs": [],
   "source": [
    "min_max_scaler = preprocessing.MinMaxScaler()\n",
    "x_scaled = min_max_scaler.fit_transform(x_ols)\n",
    "x_ols = pd.DataFrame(x_scaled)"
   ]
  },
  {
   "cell_type": "markdown",
   "metadata": {},
   "source": [
    "##### 일관성을 위한 코드\n",
    "- shuffle과 random_seed 값 1004를 적용하여 일관성 있는 순서를 위해 아래 코드가 사용됨"
   ]
  },
  {
   "cell_type": "code",
   "execution_count": 26,
   "metadata": {},
   "outputs": [
    {
     "data": {
      "text/html": [
       "<table class=\"simpletable\">\n",
       "<caption>OLS Regression Results</caption>\n",
       "<tr>\n",
       "  <th>Dep. Variable:</th>        <td>diff_days</td>    <th>  R-squared (uncentered):</th>       <td>   0.690</td>  \n",
       "</tr>\n",
       "<tr>\n",
       "  <th>Model:</th>                   <td>OLS</td>       <th>  Adj. R-squared (uncentered):</th>  <td>   0.689</td>  \n",
       "</tr>\n",
       "<tr>\n",
       "  <th>Method:</th>             <td>Least Squares</td>  <th>  F-statistic:       </th>           <td>   3958.</td>  \n",
       "</tr>\n",
       "<tr>\n",
       "  <th>Date:</th>             <td>Wed, 14 Oct 2020</td> <th>  Prob (F-statistic):</th>            <td>  0.00</td>   \n",
       "</tr>\n",
       "<tr>\n",
       "  <th>Time:</th>                 <td>22:36:56</td>     <th>  Log-Likelihood:    </th>          <td>-1.0976e+05</td>\n",
       "</tr>\n",
       "<tr>\n",
       "  <th>No. Observations:</th>      <td> 32077</td>      <th>  AIC:               </th>           <td>2.196e+05</td> \n",
       "</tr>\n",
       "<tr>\n",
       "  <th>Df Residuals:</th>          <td> 32059</td>      <th>  BIC:               </th>           <td>2.197e+05</td> \n",
       "</tr>\n",
       "<tr>\n",
       "  <th>Df Model:</th>              <td>    18</td>      <th>                     </th>               <td> </td>     \n",
       "</tr>\n",
       "<tr>\n",
       "  <th>Covariance Type:</th>      <td>nonrobust</td>    <th>                     </th>               <td> </td>     \n",
       "</tr>\n",
       "</table>\n",
       "<table class=\"simpletable\">\n",
       "<tr>\n",
       "           <td></td>              <th>coef</th>     <th>std err</th>      <th>t</th>      <th>P>|t|</th>  <th>[0.025</th>    <th>0.975]</th>  \n",
       "</tr>\n",
       "<tr>\n",
       "  <th>sex</th>                 <td>    0.3546</td> <td>    0.088</td> <td>    4.013</td> <td> 0.000</td> <td>    0.181</td> <td>    0.528</td>\n",
       "</tr>\n",
       "<tr>\n",
       "  <th>intubed</th>             <td>   -1.9579</td> <td>    0.267</td> <td>   -7.333</td> <td> 0.000</td> <td>   -2.481</td> <td>   -1.435</td>\n",
       "</tr>\n",
       "<tr>\n",
       "  <th>age_grp</th>             <td>   -0.1120</td> <td>    0.212</td> <td>   -0.527</td> <td> 0.598</td> <td>   -0.528</td> <td>    0.304</td>\n",
       "</tr>\n",
       "<tr>\n",
       "  <th>pneumonia</th>           <td>   -0.3643</td> <td>    0.101</td> <td>   -3.597</td> <td> 0.000</td> <td>   -0.563</td> <td>   -0.166</td>\n",
       "</tr>\n",
       "<tr>\n",
       "  <th>pregnancy</th>           <td>   21.9722</td> <td>    0.718</td> <td>   30.595</td> <td> 0.000</td> <td>   20.565</td> <td>   23.380</td>\n",
       "</tr>\n",
       "<tr>\n",
       "  <th>diabetes</th>            <td>    1.0614</td> <td>    0.181</td> <td>    5.866</td> <td> 0.000</td> <td>    0.707</td> <td>    1.416</td>\n",
       "</tr>\n",
       "<tr>\n",
       "  <th>copd</th>                <td>    0.9882</td> <td>    0.359</td> <td>    2.749</td> <td> 0.006</td> <td>    0.284</td> <td>    1.693</td>\n",
       "</tr>\n",
       "<tr>\n",
       "  <th>asthma</th>              <td>   -1.2470</td> <td>    0.534</td> <td>   -2.334</td> <td> 0.020</td> <td>   -2.294</td> <td>   -0.200</td>\n",
       "</tr>\n",
       "<tr>\n",
       "  <th>inmsupr</th>             <td>    0.9972</td> <td>    0.421</td> <td>    2.367</td> <td> 0.018</td> <td>    0.172</td> <td>    1.823</td>\n",
       "</tr>\n",
       "<tr>\n",
       "  <th>hypertension</th>        <td>    0.0381</td> <td>    0.184</td> <td>    0.206</td> <td> 0.836</td> <td>   -0.323</td> <td>    0.399</td>\n",
       "</tr>\n",
       "<tr>\n",
       "  <th>other_disease</th>       <td>    0.3785</td> <td>    0.327</td> <td>    1.158</td> <td> 0.247</td> <td>   -0.262</td> <td>    1.019</td>\n",
       "</tr>\n",
       "<tr>\n",
       "  <th>cardiovascular</th>      <td>    1.0272</td> <td>    0.343</td> <td>    2.994</td> <td> 0.003</td> <td>    0.355</td> <td>    1.700</td>\n",
       "</tr>\n",
       "<tr>\n",
       "  <th>obesity</th>             <td>    0.0742</td> <td>    0.197</td> <td>    0.376</td> <td> 0.707</td> <td>   -0.312</td> <td>    0.461</td>\n",
       "</tr>\n",
       "<tr>\n",
       "  <th>renal_chronic</th>       <td>    2.1117</td> <td>    0.313</td> <td>    6.744</td> <td> 0.000</td> <td>    1.498</td> <td>    2.725</td>\n",
       "</tr>\n",
       "<tr>\n",
       "  <th>tobacco</th>             <td>   -0.8295</td> <td>    0.283</td> <td>   -2.929</td> <td> 0.003</td> <td>   -1.384</td> <td>   -0.274</td>\n",
       "</tr>\n",
       "<tr>\n",
       "  <th>contact_other_covid</th> <td>    0.8173</td> <td>    0.139</td> <td>    5.862</td> <td> 0.000</td> <td>    0.544</td> <td>    1.091</td>\n",
       "</tr>\n",
       "<tr>\n",
       "  <th>covid_res</th>           <td>   -2.5513</td> <td>    0.148</td> <td>  -17.232</td> <td> 0.000</td> <td>   -2.842</td> <td>   -2.261</td>\n",
       "</tr>\n",
       "<tr>\n",
       "  <th>icu</th>                 <td>   -3.4075</td> <td>    0.299</td> <td>  -11.387</td> <td> 0.000</td> <td>   -3.994</td> <td>   -2.821</td>\n",
       "</tr>\n",
       "</table>\n",
       "<table class=\"simpletable\">\n",
       "<tr>\n",
       "  <th>Omnibus:</th>       <td>11464.577</td> <th>  Durbin-Watson:     </th> <td>   1.995</td> \n",
       "</tr>\n",
       "<tr>\n",
       "  <th>Prob(Omnibus):</th>  <td> 0.000</td>   <th>  Jarque-Bera (JB):  </th> <td>57474.659</td>\n",
       "</tr>\n",
       "<tr>\n",
       "  <th>Skew:</th>           <td> 1.664</td>   <th>  Prob(JB):          </th> <td>    0.00</td> \n",
       "</tr>\n",
       "<tr>\n",
       "  <th>Kurtosis:</th>       <td> 8.650</td>   <th>  Cond. No.          </th> <td>    38.0</td> \n",
       "</tr>\n",
       "</table><br/><br/>Warnings:<br/>[1] Standard Errors assume that the covariance matrix of the errors is correctly specified."
      ],
      "text/plain": [
       "<class 'statsmodels.iolib.summary.Summary'>\n",
       "\"\"\"\n",
       "                                 OLS Regression Results                                \n",
       "=======================================================================================\n",
       "Dep. Variable:              diff_days   R-squared (uncentered):                   0.690\n",
       "Model:                            OLS   Adj. R-squared (uncentered):              0.689\n",
       "Method:                 Least Squares   F-statistic:                              3958.\n",
       "Date:                Wed, 14 Oct 2020   Prob (F-statistic):                        0.00\n",
       "Time:                        22:36:56   Log-Likelihood:                     -1.0976e+05\n",
       "No. Observations:               32077   AIC:                                  2.196e+05\n",
       "Df Residuals:                   32059   BIC:                                  2.197e+05\n",
       "Df Model:                          18                                                  \n",
       "Covariance Type:            nonrobust                                                  \n",
       "=======================================================================================\n",
       "                          coef    std err          t      P>|t|      [0.025      0.975]\n",
       "---------------------------------------------------------------------------------------\n",
       "sex                     0.3546      0.088      4.013      0.000       0.181       0.528\n",
       "intubed                -1.9579      0.267     -7.333      0.000      -2.481      -1.435\n",
       "age_grp                -0.1120      0.212     -0.527      0.598      -0.528       0.304\n",
       "pneumonia              -0.3643      0.101     -3.597      0.000      -0.563      -0.166\n",
       "pregnancy              21.9722      0.718     30.595      0.000      20.565      23.380\n",
       "diabetes                1.0614      0.181      5.866      0.000       0.707       1.416\n",
       "copd                    0.9882      0.359      2.749      0.006       0.284       1.693\n",
       "asthma                 -1.2470      0.534     -2.334      0.020      -2.294      -0.200\n",
       "inmsupr                 0.9972      0.421      2.367      0.018       0.172       1.823\n",
       "hypertension            0.0381      0.184      0.206      0.836      -0.323       0.399\n",
       "other_disease           0.3785      0.327      1.158      0.247      -0.262       1.019\n",
       "cardiovascular          1.0272      0.343      2.994      0.003       0.355       1.700\n",
       "obesity                 0.0742      0.197      0.376      0.707      -0.312       0.461\n",
       "renal_chronic           2.1117      0.313      6.744      0.000       1.498       2.725\n",
       "tobacco                -0.8295      0.283     -2.929      0.003      -1.384      -0.274\n",
       "contact_other_covid     0.8173      0.139      5.862      0.000       0.544       1.091\n",
       "covid_res              -2.5513      0.148    -17.232      0.000      -2.842      -2.261\n",
       "icu                    -3.4075      0.299    -11.387      0.000      -3.994      -2.821\n",
       "==============================================================================\n",
       "Omnibus:                    11464.577   Durbin-Watson:                   1.995\n",
       "Prob(Omnibus):                  0.000   Jarque-Bera (JB):            57474.659\n",
       "Skew:                           1.664   Prob(JB):                         0.00\n",
       "Kurtosis:                       8.650   Cond. No.                         38.0\n",
       "==============================================================================\n",
       "\n",
       "Warnings:\n",
       "[1] Standard Errors assume that the covariance matrix of the errors is correctly specified.\n",
       "\"\"\""
      ]
     },
     "execution_count": 26,
     "metadata": {},
     "output_type": "execute_result"
    }
   ],
   "source": [
    "x_ols, _, y_ols, _ = train_test_split(x_ols, y_ols, \n",
    "                                      test_size=0.01, \n",
    "                                      shuffle = True, \n",
    "                                      random_state = 1004)\n",
    "\n",
    "colname = ['sex', 'intubed','age_grp','pneumonia',\n",
    "           'pregnancy', 'diabetes', 'copd', 'asthma',\n",
    "           'inmsupr','hypertension','other_disease',\n",
    "           'cardiovascular','obesity', 'renal_chronic', \n",
    "           'tobacco', 'contact_other_covid', 'covid_res', \n",
    "           'icu']\n",
    "\n",
    "x_ols = x_ols.reset_index(drop=True)\n",
    "x_ols.columns = colname\n",
    "y_ols = y_ols.reset_index(drop=True)\n",
    "\n",
    "FD = sm.OLS(endog=y_ols, exog=x_ols).fit()\n",
    "FD.summary()"
   ]
  },
  {
   "cell_type": "markdown",
   "metadata": {},
   "source": [
    "##### Classification report"
   ]
  },
  {
   "cell_type": "code",
   "execution_count": 27,
   "metadata": {},
   "outputs": [
    {
     "name": "stdout",
     "output_type": "stream",
     "text": [
      "MSE : 52.509\n",
      "RMSE : 7.246\n"
     ]
    }
   ],
   "source": [
    "pred2 = FD.predict(x_ols)\n",
    "rmse2 = np.sqrt(mean_squared_error(y_ols, pred2))\n",
    "mse2 = mean_squared_error(y_ols, pred2)\n",
    "print('MSE : %.3f' % (mse))\n",
    "print('RMSE : %.3f' % (rmse))"
   ]
  },
  {
   "cell_type": "markdown",
   "metadata": {},
   "source": [
    "## 시각화"
   ]
  },
  {
   "cell_type": "code",
   "execution_count": 28,
   "metadata": {},
   "outputs": [
    {
     "data": {
      "image/png": "[encoded data removed]",
      "text/plain": [
       "<Figure size 576x576 with 1 Axes>"
      ]
     },
     "metadata": {
      "needs_background": "light"
     },
     "output_type": "display_data"
    }
   ],
   "source": [
    "plt.figure(figsize=(8,8))\n",
    "plt.rc('axes', titlesize=25)   \n",
    "plt.rc('axes', labelsize=20)  \n",
    "plt.rc('xtick', labelsize=15)   \n",
    "plt.rc('ytick', labelsize=15) \n",
    "plt.rc('legend', fontsize=13)\n",
    "\n",
    "plt.plot(y_ols, pred2, 'x')\n",
    "plt.plot([0,25],[0,25], 'k--', linewidth=2, label=\"regression_line\")\n",
    "plt.xlabel('True Value')\n",
    "plt.ylabel('Predicted Value')\n",
    "plt.title('Linear Regression - OLS')\n",
    "\n",
    "plt.legend()\n",
    "\n",
    "plt.savefig('result/img/reg_ols.png', dpi=300)"
   ]
  },
  {
   "cell_type": "markdown",
   "metadata": {},
   "source": [
    "#####  Predicted, True, Error table"
   ]
  },
  {
   "cell_type": "code",
   "execution_count": 29,
   "metadata": {},
   "outputs": [],
   "source": [
    "d = { 'y_true': y_ols, \n",
    "      'y_pred': pred2.round(), \n",
    "      #'error': y_ols - pred2.round()}\n",
    "    }\n",
    "\n",
    "pred_diff2 = pd.DataFrame(data=d).reset_index()\n",
    "pred_diff2 = pred_diff2.drop(['index'], axis=1)"
   ]
  },
  {
   "cell_type": "code",
   "execution_count": 30,
   "metadata": {},
   "outputs": [
    {
     "data": {
      "text/html": [
       "<div>\n",
       "<style scoped>\n",
       "    .dataframe tbody tr th:only-of-type {\n",
       "        vertical-align: middle;\n",
       "    }\n",
       "\n",
       "    .dataframe tbody tr th {\n",
       "        vertical-align: top;\n",
       "    }\n",
       "\n",
       "    .dataframe thead th {\n",
       "        text-align: right;\n",
       "    }\n",
       "</style>\n",
       "<table border=\"1\" class=\"dataframe\">\n",
       "  <thead>\n",
       "    <tr style=\"text-align: right;\">\n",
       "      <th></th>\n",
       "      <th>pred</th>\n",
       "      <th>y_true</th>\n",
       "    </tr>\n",
       "  </thead>\n",
       "  <tbody>\n",
       "    <tr>\n",
       "      <th>6476</th>\n",
       "      <td>11.0</td>\n",
       "      <td>11</td>\n",
       "    </tr>\n",
       "    <tr>\n",
       "      <th>6477</th>\n",
       "      <td>11.0</td>\n",
       "      <td>17</td>\n",
       "    </tr>\n",
       "    <tr>\n",
       "      <th>6478</th>\n",
       "      <td>11.0</td>\n",
       "      <td>16</td>\n",
       "    </tr>\n",
       "    <tr>\n",
       "      <th>6479</th>\n",
       "      <td>10.0</td>\n",
       "      <td>15</td>\n",
       "    </tr>\n",
       "    <tr>\n",
       "      <th>6480</th>\n",
       "      <td>12.0</td>\n",
       "      <td>11</td>\n",
       "    </tr>\n",
       "  </tbody>\n",
       "</table>\n",
       "</div>"
      ],
      "text/plain": [
       "      pred  y_true\n",
       "6476  11.0      11\n",
       "6477  11.0      17\n",
       "6478  11.0      16\n",
       "6479  10.0      15\n",
       "6480  12.0      11"
      ]
     },
     "execution_count": 30,
     "metadata": {},
     "output_type": "execute_result"
    }
   ],
   "source": [
    "c = {'y_true': y_test, 'pred': pred.round()}\n",
    "\n",
    "pred_diff2 = pd.DataFrame(data=c).reset_index()\n",
    "pred_diff2 = pred_diff2.drop(['index'], axis=1).reset_index(drop=True)\n",
    "pred_diff2.tail()"
   ]
  },
  {
   "cell_type": "code",
   "execution_count": 31,
   "metadata": {},
   "outputs": [
    {
     "data": {
      "text/html": [
       "<div>\n",
       "<style scoped>\n",
       "    .dataframe tbody tr th:only-of-type {\n",
       "        vertical-align: middle;\n",
       "    }\n",
       "\n",
       "    .dataframe tbody tr th {\n",
       "        vertical-align: top;\n",
       "    }\n",
       "\n",
       "    .dataframe thead th {\n",
       "        text-align: right;\n",
       "    }\n",
       "</style>\n",
       "<table border=\"1\" class=\"dataframe\">\n",
       "  <thead>\n",
       "    <tr style=\"text-align: right;\">\n",
       "      <th></th>\n",
       "      <th>pred</th>\n",
       "      <th>y_true</th>\n",
       "    </tr>\n",
       "  </thead>\n",
       "  <tbody>\n",
       "    <tr>\n",
       "      <th>6476</th>\n",
       "      <td>11.0</td>\n",
       "      <td>11</td>\n",
       "    </tr>\n",
       "    <tr>\n",
       "      <th>6477</th>\n",
       "      <td>11.0</td>\n",
       "      <td>17</td>\n",
       "    </tr>\n",
       "    <tr>\n",
       "      <th>6478</th>\n",
       "      <td>11.0</td>\n",
       "      <td>16</td>\n",
       "    </tr>\n",
       "    <tr>\n",
       "      <th>6479</th>\n",
       "      <td>10.0</td>\n",
       "      <td>15</td>\n",
       "    </tr>\n",
       "    <tr>\n",
       "      <th>6480</th>\n",
       "      <td>12.0</td>\n",
       "      <td>11</td>\n",
       "    </tr>\n",
       "  </tbody>\n",
       "</table>\n",
       "</div>"
      ],
      "text/plain": [
       "      pred  y_true\n",
       "6476  11.0      11\n",
       "6477  11.0      17\n",
       "6478  11.0      16\n",
       "6479  10.0      15\n",
       "6480  12.0      11"
      ]
     },
     "execution_count": 31,
     "metadata": {},
     "output_type": "execute_result"
    }
   ],
   "source": [
    "pred_diff2.tail()"
   ]
  },
  {
   "cell_type": "code",
   "execution_count": 32,
   "metadata": {},
   "outputs": [],
   "source": [
    "pred_diff2.to_csv('reg_ols.csv', encoding='utf-8', index=False, line_terminator='\\n')"
   ]
  },
  {
   "cell_type": "markdown",
   "metadata": {},
   "source": [
    "- 참고로 OLS는 train/test 를 구분하지 않기 때문에 csv에 모든 예측 결과값이 저장됨\n",
    "- 총 32402개의 데이터가 입력되었음"
   ]
  }
 ],
 "metadata": {
  "kernelspec": {
   "display_name": "Python 3",
   "language": "python",
   "name": "python3"
  },
  "language_info": {
   "codemirror_mode": {
    "name": "ipython",
    "version": 3
   },
   "file_extension": ".py",
   "mimetype": "text/x-python",
   "name": "python",
   "nbconvert_exporter": "python",
   "pygments_lexer": "ipython3",
   "version": "3.7.9"
  }
 },
 "nbformat": 4,
 "nbformat_minor": 4
}
