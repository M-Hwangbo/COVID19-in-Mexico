{
 "cells": [
  {
   "cell_type": "code",
   "execution_count": 3,
   "metadata": {},
   "outputs": [],
   "source": [
    "import pandas as pd\n",
    "import numpy as np\n",
    "import matplotlib.pyplot as plt\n",
    "%matplotlib inline\n",
    "from datetime import datetime, timedelta\n",
    "#import seaborn as sns\n",
    "\n",
    "from sklearn.preprocessing import MinMaxScaler\n",
    "from sklearn.model_selection import train_test_split, GridSearchCV, KFold\n",
    "from sklearn.metrics import mean_squared_error\n",
    "from xgboost import plot_importance, XGBRegressor"
   ]
  },
  {
   "cell_type": "code",
   "execution_count": 4,
   "metadata": {},
   "outputs": [
    {
     "data": {
      "text/plain": [
       "121395"
      ]
     },
     "execution_count": 4,
     "metadata": {},
     "output_type": "execute_result"
    }
   ],
   "source": [
    "df=pd.read_csv('d_final_mehico.csv')\n",
    "# df.head()\n",
    "len(df)"
   ]
  },
  {
   "cell_type": "code",
   "execution_count": 5,
   "metadata": {},
   "outputs": [
    {
     "name": "stdout",
     "output_type": "stream",
     "text": [
      "0    88993\n",
      "1    32402\n",
      "Name: DEATH, dtype: int64\n"
     ]
    }
   ],
   "source": [
    "# 생존자 제거\n",
    "freq = df['DEATH'].value_counts()\n",
    "print(freq)\n",
    "survive = df[df['DEATH']==0].index\n",
    "df1 = df.drop(survive)"
   ]
  },
  {
   "cell_type": "code",
   "execution_count": 6,
   "metadata": {},
   "outputs": [],
   "source": [
    "# featrues; x\n",
    "features= df1.loc[:, ['sex', 'intubed','pneumonia','age_grp','pregnancy', 'diabetes', \n",
    "                 'copd', 'asthma','inmsupr','hypertension','other_disease',\n",
    "                 'cardiovascular','obesity', 'renal_chronic', 'tobacco', \n",
    "                 'contact_other_covid', 'covid_res', 'icu']]\n",
    "\n",
    "# label; y \n",
    "label = df1.loc[:, ['diff_days']] # regression"
   ]
  },
  {
   "cell_type": "code",
   "execution_count": 7,
   "metadata": {},
   "outputs": [
    {
     "data": {
      "text/plain": [
       "array([[0. , 0.5, 1. , ..., 1. , 0. , 0.5],\n",
       "       [1. , 0.5, 0. , ..., 1. , 0. , 0. ],\n",
       "       [1. , 0.5, 0. , ..., 1. , 0. , 0.5],\n",
       "       ...,\n",
       "       [1. , 0.5, 1. , ..., 1. , 1. , 0.5],\n",
       "       [0. , 0. , 0. , ..., 0. , 1. , 0.5],\n",
       "       [1. , 0. , 0. , ..., 0.5, 1. , 0. ]])"
      ]
     },
     "execution_count": 7,
     "metadata": {},
     "output_type": "execute_result"
    }
   ],
   "source": [
    "# 정규화\n",
    "from sklearn.preprocessing import MinMaxScaler\n",
    "feature_n = MinMaxScaler(feature_range=(0,1)).fit_transform(features)\n",
    "feature_n"
   ]
  },
  {
   "cell_type": "code",
   "execution_count": 14,
   "metadata": {},
   "outputs": [],
   "source": [
    "# Train, Test dataset 분리\n",
    "X_train, X_test, y_train, y_test = train_test_split(features, label, test_size=0.2, random_state=1004)"
   ]
  },
  {
   "cell_type": "code",
   "execution_count": 15,
   "metadata": {},
   "outputs": [
    {
     "name": "stdout",
     "output_type": "stream",
     "text": [
      "(25921, 18) (25921, 1) (6481, 18) (6481, 1)\n"
     ]
    }
   ],
   "source": [
    "print(X_train.shape[:], y_train.shape[:], X_test.shape[:], y_test.shape[:])"
   ]
  },
  {
   "cell_type": "markdown",
   "metadata": {},
   "source": [
    "\n",
    "Emsemble model - XGBoost\n",
    "\n",
    "    모델 사용 이유 : kaggle 등에서 성능이 좋아서 최근 많이 쓰임\n",
    "    Gradient Boosting model 보다 계산 속도 빠름\n",
    "    참고 : https://lsjsj92.tistory.com/547\n",
    "\n",
    "    병렬 처리를 사용하기에 학습과 분류가 빠르다\n",
    "    유연성이 좋다. 커스텀 최적화 옵션을 제공한다\n",
    "    욕심쟁이(Greedy-algorithm)을 사용한 자동 가지치기가 가능하다. 과적합이 잘일어나지 않는다.\n",
    "    다른 알고리즘과 연계하여 앙상블 학습이 가능하다.\n",
    "\n",
    "XGBoost Hyper Parameter Tuning\n",
    "\n",
    "    Regression model에서는 Tuning에 시간이 너무 오래걸려서 GridSearchCV 하지 않음\n",
    "    그냥 Classification model에서의 최적 파라미터로 train\n",
    "\n"
   ]
  },
  {
   "cell_type": "code",
   "execution_count": 16,
   "metadata": {},
   "outputs": [],
   "source": [
    "# Model Building\n",
    "\n",
    "xgb = XGBRegressor()\n",
    "\n",
    "xgb_params_grid = {\n",
    "    'n_estimators' : [100, 200, 300, 400, 500], # 결정 트리 개수\n",
    "    'learning_rate' : [0.001, 0.01, 0.05, 0.10, 0.15, 0.2], # 학습률\n",
    "    'max_depth' : [4, 6, 8, 10 ,12], # 트리 깊이\n",
    "    'random_state' : [1004], # seed 설정\n",
    "    'objective' : ['reg:linear']\n",
    "}\n",
    "\n",
    "xgb_model = GridSearchCV(xgb, param_grid = xgb_params_grid, \n",
    "                        scoring = \"neg_root_mean_squared_error\", \n",
    "                        cv = KFold(5, random_state = 1004), # 5-fold CV 수행\n",
    "                        n_jobs = 4, # 병렬 처리 개수 : -1은 전부\n",
    "                        verbose = 1)"
   ]
  },
  {
   "cell_type": "code",
   "execution_count": 17,
   "metadata": {},
   "outputs": [
    {
     "name": "stdout",
     "output_type": "stream",
     "text": [
      "Fitting 5 folds for each of 150 candidates, totalling 750 fits\n"
     ]
    },
    {
     "name": "stderr",
     "output_type": "stream",
     "text": [
      "[Parallel(n_jobs=4)]: Using backend LokyBackend with 4 concurrent workers.\n",
      "[Parallel(n_jobs=4)]: Done  42 tasks      | elapsed:  1.8min\n",
      "[Parallel(n_jobs=4)]: Done 192 tasks      | elapsed: 13.7min\n",
      "[Parallel(n_jobs=4)]: Done 442 tasks      | elapsed: 32.0min\n",
      "[Parallel(n_jobs=4)]: Done 750 out of 750 | elapsed: 54.5min finished\n"
     ]
    },
    {
     "name": "stdout",
     "output_type": "stream",
     "text": [
      "[06:28:29] WARNING: C:/Users/Administrator/workspace/xgboost-win64_release_1.2.0/src/objective/regression_obj.cu:174: reg:linear is now deprecated in favor of reg:squarederror.\n",
      "[06:28:36] WARNING: C:/Users/Administrator/workspace/xgboost-win64_release_1.2.0/src/objective/regression_obj.cu:174: reg:linear is now deprecated in favor of reg:squarederror.\n"
     ]
    },
    {
     "data": {
      "text/plain": [
       "GridSearchCV(cv=KFold(n_splits=5, random_state=1004, shuffle=False),\n",
       "             estimator=XGBRegressor(base_score=None, booster=None,\n",
       "                                    colsample_bylevel=None,\n",
       "                                    colsample_bynode=None,\n",
       "                                    colsample_bytree=None, gamma=None,\n",
       "                                    gpu_id=None, importance_type='gain',\n",
       "                                    interaction_constraints=None,\n",
       "                                    learning_rate=None, max_delta_step=None,\n",
       "                                    max_depth=None, min_child_weight=None,\n",
       "                                    missing=nan, mo...\n",
       "                                    reg_alpha=None, reg_lambda=None,\n",
       "                                    scale_pos_weight=None, subsample=None,\n",
       "                                    tree_method=None, validate_parameters=None,\n",
       "                                    verbosity=None),\n",
       "             n_jobs=4,\n",
       "             param_grid={'learning_rate': [0.001, 0.01, 0.05, 0.1, 0.15, 0.2],\n",
       "                         'max_depth': [4, 6, 8, 10, 12],\n",
       "                         'n_estimators': [100, 200, 300, 400, 500],\n",
       "                         'objective': ['reg:linear'], 'random_state': [1004]},\n",
       "             scoring='neg_root_mean_squared_error', verbose=1)"
      ]
     },
     "execution_count": 17,
     "metadata": {},
     "output_type": "execute_result"
    }
   ],
   "source": [
    "# Model Learning\n",
    "Y_train2 = y_train.loc[:, \"diff_days\"]\n",
    "xgb_model.fit(X_train, Y_train2)"
   ]
  },
  {
   "cell_type": "code",
   "execution_count": 18,
   "metadata": {},
   "outputs": [
    {
     "name": "stdout",
     "output_type": "stream",
     "text": [
      "Best parameters (5-fold CV, gird search):  {'learning_rate': 0.01, 'max_depth': 4, 'n_estimators': 500, 'objective': 'reg:linear', 'random_state': 1004}\n",
      "Best accuracy (5-fold CV, gird search):  -7.393033250452705\n"
     ]
    }
   ],
   "source": [
    "# 최적 parameter 확인\n",
    "print(\"Best parameters (5-fold CV, gird search): \" , xgb_model.best_params_)\n",
    "print(\"Best accuracy (5-fold CV, gird search): \" , xgb_model.best_score_)"
   ]
  },
  {
   "cell_type": "code",
   "execution_count": 24,
   "metadata": {},
   "outputs": [],
   "source": [
    "cv_result_df = pd.DataFrame(xgb_model.cv_results_)\n",
    "cv_result_df.sort_values(by=['rank_test_score'], inplace=True)"
   ]
  },
  {
   "cell_type": "code",
   "execution_count": 25,
   "metadata": {},
   "outputs": [
    {
     "data": {
      "text/html": [
       "<div>\n",
       "<style scoped>\n",
       "    .dataframe tbody tr th:only-of-type {\n",
       "        vertical-align: middle;\n",
       "    }\n",
       "\n",
       "    .dataframe tbody tr th {\n",
       "        vertical-align: top;\n",
       "    }\n",
       "\n",
       "    .dataframe thead th {\n",
       "        text-align: right;\n",
       "    }\n",
       "</style>\n",
       "<table border=\"1\" class=\"dataframe\">\n",
       "  <thead>\n",
       "    <tr style=\"text-align: right;\">\n",
       "      <th></th>\n",
       "      <th>params</th>\n",
       "      <th>mean_test_score</th>\n",
       "      <th>rank_test_score</th>\n",
       "    </tr>\n",
       "  </thead>\n",
       "  <tbody>\n",
       "    <tr>\n",
       "      <th>29</th>\n",
       "      <td>{'learning_rate': 0.01, 'max_depth': 4, 'n_est...</td>\n",
       "      <td>-7.393033</td>\n",
       "      <td>1</td>\n",
       "    </tr>\n",
       "    <tr>\n",
       "      <th>50</th>\n",
       "      <td>{'learning_rate': 0.05, 'max_depth': 4, 'n_est...</td>\n",
       "      <td>-7.393928</td>\n",
       "      <td>2</td>\n",
       "    </tr>\n",
       "    <tr>\n",
       "      <th>28</th>\n",
       "      <td>{'learning_rate': 0.01, 'max_depth': 4, 'n_est...</td>\n",
       "      <td>-7.395526</td>\n",
       "      <td>3</td>\n",
       "    </tr>\n",
       "    <tr>\n",
       "      <th>51</th>\n",
       "      <td>{'learning_rate': 0.05, 'max_depth': 4, 'n_est...</td>\n",
       "      <td>-7.400202</td>\n",
       "      <td>4</td>\n",
       "    </tr>\n",
       "    <tr>\n",
       "      <th>75</th>\n",
       "      <td>{'learning_rate': 0.1, 'max_depth': 4, 'n_esti...</td>\n",
       "      <td>-7.401362</td>\n",
       "      <td>5</td>\n",
       "    </tr>\n",
       "  </tbody>\n",
       "</table>\n",
       "</div>"
      ],
      "text/plain": [
       "                                               params  mean_test_score  \\\n",
       "29  {'learning_rate': 0.01, 'max_depth': 4, 'n_est...        -7.393033   \n",
       "50  {'learning_rate': 0.05, 'max_depth': 4, 'n_est...        -7.393928   \n",
       "28  {'learning_rate': 0.01, 'max_depth': 4, 'n_est...        -7.395526   \n",
       "51  {'learning_rate': 0.05, 'max_depth': 4, 'n_est...        -7.400202   \n",
       "75  {'learning_rate': 0.1, 'max_depth': 4, 'n_esti...        -7.401362   \n",
       "\n",
       "    rank_test_score  \n",
       "29                1  \n",
       "50                2  \n",
       "28                3  \n",
       "51                4  \n",
       "75                5  "
      ]
     },
     "execution_count": 25,
     "metadata": {},
     "output_type": "execute_result"
    }
   ],
   "source": [
    "cv_result_df[['params', 'mean_test_score', 'rank_test_score']].head()"
   ]
  },
  {
   "cell_type": "code",
   "execution_count": 26,
   "metadata": {},
   "outputs": [
    {
     "data": {
      "text/plain": [
       "array([ 8.274761, 10.764055, 10.717618, ..., 10.910509, 10.138329,\n",
       "       11.749681], dtype=float32)"
      ]
     },
     "execution_count": 26,
     "metadata": {},
     "output_type": "execute_result"
    }
   ],
   "source": [
    "# 최적 parameter로 xgboost 모델 생성 및 예측\n",
    "xgb_best = xgb_model.best_estimator_\n",
    "Y_pred = xgb_best.predict(X_test) ; Y_pred # 예측값"
   ]
  },
  {
   "cell_type": "code",
   "execution_count": 27,
   "metadata": {},
   "outputs": [
    {
     "data": {
      "text/plain": [
       "XGBRegressor(base_score=0.5, booster='gbtree', colsample_bylevel=1,\n",
       "             colsample_bynode=1, colsample_bytree=1, gamma=0, gpu_id=-1,\n",
       "             importance_type='gain', interaction_constraints='',\n",
       "             learning_rate=0.01, max_delta_step=0, max_depth=4,\n",
       "             min_child_weight=1, missing=nan, monotone_constraints='()',\n",
       "             n_estimators=500, n_jobs=0, num_parallel_tree=1,\n",
       "             objective='reg:linear', random_state=1004, reg_alpha=0,\n",
       "             reg_lambda=1, scale_pos_weight=1, subsample=1, tree_method='exact',\n",
       "             validate_parameters=1, verbosity=None)"
      ]
     },
     "execution_count": 27,
     "metadata": {},
     "output_type": "execute_result"
    }
   ],
   "source": [
    "xgb_best"
   ]
  },
  {
   "cell_type": "code",
   "execution_count": 28,
   "metadata": {},
   "outputs": [
    {
     "name": "stdout",
     "output_type": "stream",
     "text": [
      "RMSE : 7.179\n"
     ]
    }
   ],
   "source": [
    "# Test set 성능평가\n",
    "Y_test2 = y_test.loc[:, \"diff_days\"] # True 값\n",
    "Y_test2 = Y_test2.reset_index(drop=True)\n",
    "print('RMSE : %.3f' % np.sqrt(mean_squared_error(Y_test2, Y_pred)))"
   ]
  },
  {
   "cell_type": "code",
   "execution_count": 29,
   "metadata": {},
   "outputs": [],
   "source": [
    "# X축 : Y, Y축 : predicted Y 산점도 작성"
   ]
  },
  {
   "cell_type": "code",
   "execution_count": 30,
   "metadata": {},
   "outputs": [
    {
     "data": {
      "image/png": "[encoded data removed]",
      "text/plain": [
       "<Figure size 432x288 with 1 Axes>"
      ]
     },
     "metadata": {
      "needs_background": "light"
     },
     "output_type": "display_data"
    }
   ],
   "source": [
    "plt.plot(Y_pred, Y_test2, 'o')\n",
    "plt.xlabel('True value')\n",
    "plt.ylabel('Predicted value')\n",
    "plt.title('Regression - Xgboost')\n",
    "plt.show()"
   ]
  },
  {
   "cell_type": "code",
   "execution_count": 31,
   "metadata": {},
   "outputs": [],
   "source": [
    "# Y, Predicted Y export (나중에 그래프 그릴 때 쓰게)"
   ]
  },
  {
   "cell_type": "code",
   "execution_count": 32,
   "metadata": {},
   "outputs": [],
   "source": [
    "d_trueY = pd.DataFrame({'Y_pred':Y_test2}).reset_index(drop=True)\n",
    "d_predY = pd.DataFrame({'Y_pred':Y_pred})"
   ]
  },
  {
   "cell_type": "code",
   "execution_count": 33,
   "metadata": {},
   "outputs": [
    {
     "data": {
      "text/html": [
       "<div>\n",
       "<style scoped>\n",
       "    .dataframe tbody tr th:only-of-type {\n",
       "        vertical-align: middle;\n",
       "    }\n",
       "\n",
       "    .dataframe tbody tr th {\n",
       "        vertical-align: top;\n",
       "    }\n",
       "\n",
       "    .dataframe thead th {\n",
       "        text-align: right;\n",
       "    }\n",
       "</style>\n",
       "<table border=\"1\" class=\"dataframe\">\n",
       "  <thead>\n",
       "    <tr style=\"text-align: right;\">\n",
       "      <th></th>\n",
       "      <th>Y_pred</th>\n",
       "      <th>Y_pred</th>\n",
       "    </tr>\n",
       "  </thead>\n",
       "  <tbody>\n",
       "    <tr>\n",
       "      <th>0</th>\n",
       "      <td>8</td>\n",
       "      <td>8.274761</td>\n",
       "    </tr>\n",
       "    <tr>\n",
       "      <th>1</th>\n",
       "      <td>14</td>\n",
       "      <td>10.764055</td>\n",
       "    </tr>\n",
       "    <tr>\n",
       "      <th>2</th>\n",
       "      <td>7</td>\n",
       "      <td>10.717618</td>\n",
       "    </tr>\n",
       "    <tr>\n",
       "      <th>3</th>\n",
       "      <td>15</td>\n",
       "      <td>8.635523</td>\n",
       "    </tr>\n",
       "    <tr>\n",
       "      <th>4</th>\n",
       "      <td>16</td>\n",
       "      <td>11.228484</td>\n",
       "    </tr>\n",
       "    <tr>\n",
       "      <th>...</th>\n",
       "      <td>...</td>\n",
       "      <td>...</td>\n",
       "    </tr>\n",
       "    <tr>\n",
       "      <th>6476</th>\n",
       "      <td>11</td>\n",
       "      <td>11.424531</td>\n",
       "    </tr>\n",
       "    <tr>\n",
       "      <th>6477</th>\n",
       "      <td>17</td>\n",
       "      <td>10.166816</td>\n",
       "    </tr>\n",
       "    <tr>\n",
       "      <th>6478</th>\n",
       "      <td>16</td>\n",
       "      <td>10.910509</td>\n",
       "    </tr>\n",
       "    <tr>\n",
       "      <th>6479</th>\n",
       "      <td>15</td>\n",
       "      <td>10.138329</td>\n",
       "    </tr>\n",
       "    <tr>\n",
       "      <th>6480</th>\n",
       "      <td>11</td>\n",
       "      <td>11.749681</td>\n",
       "    </tr>\n",
       "  </tbody>\n",
       "</table>\n",
       "<p>6481 rows × 2 columns</p>\n",
       "</div>"
      ],
      "text/plain": [
       "      Y_pred     Y_pred\n",
       "0          8   8.274761\n",
       "1         14  10.764055\n",
       "2          7  10.717618\n",
       "3         15   8.635523\n",
       "4         16  11.228484\n",
       "...      ...        ...\n",
       "6476      11  11.424531\n",
       "6477      17  10.166816\n",
       "6478      16  10.910509\n",
       "6479      15  10.138329\n",
       "6480      11  11.749681\n",
       "\n",
       "[6481 rows x 2 columns]"
      ]
     },
     "execution_count": 33,
     "metadata": {},
     "output_type": "execute_result"
    }
   ],
   "source": [
    "reg_xgboost = pd.concat([d_trueY, d_predY], axis = 1).reset_index(drop=True)\n",
    "reg_xgboost"
   ]
  },
  {
   "cell_type": "code",
   "execution_count": 34,
   "metadata": {},
   "outputs": [],
   "source": [
    "reg_xgboost.to_csv('reg_xgboost.csv', encoding='utf-8', index=False, line_terminator='\\n')"
   ]
  },
  {
   "cell_type": "code",
   "execution_count": null,
   "metadata": {},
   "outputs": [],
   "source": [
    "# RMSE : 7.179"
   ]
  }
 ],
 "metadata": {
  "kernelspec": {
   "display_name": "Python [conda env:.conda-my_python] *",
   "language": "python",
   "name": "conda-env-.conda-my_python-py"
  },
  "language_info": {
   "codemirror_mode": {
    "name": "ipython",
    "version": 3
   },
   "file_extension": ".py",
   "mimetype": "text/x-python",
   "name": "python",
   "nbconvert_exporter": "python",
   "pygments_lexer": "ipython3",
   "version": "3.7.9"
  }
 },
 "nbformat": 4,
 "nbformat_minor": 4
}
