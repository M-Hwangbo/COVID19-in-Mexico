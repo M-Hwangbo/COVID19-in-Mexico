{
 "cells": [
  {
   "cell_type": "code",
   "execution_count": 1,
   "metadata": {},
   "outputs": [],
   "source": [
    "import numpy as np\n",
    "import pandas as pd\n",
    "import matplotlib.pyplot as plt\n",
    "import tensorflow as tf\n",
    "\n",
    "from sklearn import preprocessing\n",
    "from sklearn.model_selection import train_test_split\n",
    "from sklearn.metrics import accuracy_score\n",
    "from sklearn.metrics import confusion_matrix\n",
    "from sklearn.metrics import classification_report\n",
    "from sklearn.metrics import roc_curve, precision_score, recall_score, f1_score, accuracy_score, auc"
   ]
  },
  {
   "cell_type": "markdown",
   "metadata": {},
   "source": [
    "# Data Modeling"
   ]
  },
  {
   "cell_type": "markdown",
   "metadata": {},
   "source": [
    "## 데이터 수집"
   ]
  },
  {
   "cell_type": "code",
   "execution_count": 2,
   "metadata": {},
   "outputs": [],
   "source": [
    "df = pd.read_csv('d_final.csv')"
   ]
  },
  {
   "cell_type": "code",
   "execution_count": 3,
   "metadata": {},
   "outputs": [
    {
     "data": {
      "text/html": [
       "<div>\n",
       "<style scoped>\n",
       "    .dataframe tbody tr th:only-of-type {\n",
       "        vertical-align: middle;\n",
       "    }\n",
       "\n",
       "    .dataframe tbody tr th {\n",
       "        vertical-align: top;\n",
       "    }\n",
       "\n",
       "    .dataframe thead th {\n",
       "        text-align: right;\n",
       "    }\n",
       "</style>\n",
       "<table border=\"1\" class=\"dataframe\">\n",
       "  <thead>\n",
       "    <tr style=\"text-align: right;\">\n",
       "      <th></th>\n",
       "      <th>id</th>\n",
       "      <th>sex</th>\n",
       "      <th>intubed</th>\n",
       "      <th>pneumonia</th>\n",
       "      <th>age</th>\n",
       "      <th>pregnancy</th>\n",
       "      <th>diabetes</th>\n",
       "      <th>copd</th>\n",
       "      <th>asthma</th>\n",
       "      <th>inmsupr</th>\n",
       "      <th>...</th>\n",
       "      <th>tobacco</th>\n",
       "      <th>contact_other_covid</th>\n",
       "      <th>covid_res</th>\n",
       "      <th>icu</th>\n",
       "      <th>DEATH</th>\n",
       "      <th>d_ent</th>\n",
       "      <th>d_sym</th>\n",
       "      <th>d_last</th>\n",
       "      <th>diff_days</th>\n",
       "      <th>age_grp</th>\n",
       "    </tr>\n",
       "  </thead>\n",
       "  <tbody>\n",
       "    <tr>\n",
       "      <th>0</th>\n",
       "      <td>167386</td>\n",
       "      <td>1</td>\n",
       "      <td>2</td>\n",
       "      <td>2</td>\n",
       "      <td>54</td>\n",
       "      <td>2</td>\n",
       "      <td>2</td>\n",
       "      <td>2</td>\n",
       "      <td>2</td>\n",
       "      <td>2</td>\n",
       "      <td>...</td>\n",
       "      <td>2</td>\n",
       "      <td>3</td>\n",
       "      <td>1</td>\n",
       "      <td>2</td>\n",
       "      <td>0</td>\n",
       "      <td>2020-04-06</td>\n",
       "      <td>2020-04-01</td>\n",
       "      <td>2020-06-29</td>\n",
       "      <td>89</td>\n",
       "      <td>3.0</td>\n",
       "    </tr>\n",
       "    <tr>\n",
       "      <th>1</th>\n",
       "      <td>0b5948</td>\n",
       "      <td>2</td>\n",
       "      <td>2</td>\n",
       "      <td>1</td>\n",
       "      <td>30</td>\n",
       "      <td>2</td>\n",
       "      <td>2</td>\n",
       "      <td>2</td>\n",
       "      <td>2</td>\n",
       "      <td>2</td>\n",
       "      <td>...</td>\n",
       "      <td>2</td>\n",
       "      <td>3</td>\n",
       "      <td>1</td>\n",
       "      <td>2</td>\n",
       "      <td>0</td>\n",
       "      <td>2020-04-17</td>\n",
       "      <td>2020-04-10</td>\n",
       "      <td>2020-06-29</td>\n",
       "      <td>80</td>\n",
       "      <td>2.0</td>\n",
       "    </tr>\n",
       "    <tr>\n",
       "      <th>2</th>\n",
       "      <td>0d01b5</td>\n",
       "      <td>1</td>\n",
       "      <td>2</td>\n",
       "      <td>2</td>\n",
       "      <td>60</td>\n",
       "      <td>2</td>\n",
       "      <td>1</td>\n",
       "      <td>2</td>\n",
       "      <td>2</td>\n",
       "      <td>2</td>\n",
       "      <td>...</td>\n",
       "      <td>2</td>\n",
       "      <td>3</td>\n",
       "      <td>1</td>\n",
       "      <td>2</td>\n",
       "      <td>1</td>\n",
       "      <td>2020-04-13</td>\n",
       "      <td>2020-04-13</td>\n",
       "      <td>2020-04-22</td>\n",
       "      <td>9</td>\n",
       "      <td>4.0</td>\n",
       "    </tr>\n",
       "    <tr>\n",
       "      <th>3</th>\n",
       "      <td>1beec8</td>\n",
       "      <td>2</td>\n",
       "      <td>2</td>\n",
       "      <td>1</td>\n",
       "      <td>47</td>\n",
       "      <td>2</td>\n",
       "      <td>1</td>\n",
       "      <td>2</td>\n",
       "      <td>2</td>\n",
       "      <td>2</td>\n",
       "      <td>...</td>\n",
       "      <td>2</td>\n",
       "      <td>3</td>\n",
       "      <td>1</td>\n",
       "      <td>1</td>\n",
       "      <td>1</td>\n",
       "      <td>2020-04-16</td>\n",
       "      <td>2020-04-16</td>\n",
       "      <td>2020-04-29</td>\n",
       "      <td>13</td>\n",
       "      <td>3.0</td>\n",
       "    </tr>\n",
       "    <tr>\n",
       "      <th>4</th>\n",
       "      <td>1.75E+56</td>\n",
       "      <td>2</td>\n",
       "      <td>2</td>\n",
       "      <td>2</td>\n",
       "      <td>63</td>\n",
       "      <td>2</td>\n",
       "      <td>2</td>\n",
       "      <td>2</td>\n",
       "      <td>2</td>\n",
       "      <td>2</td>\n",
       "      <td>...</td>\n",
       "      <td>2</td>\n",
       "      <td>3</td>\n",
       "      <td>1</td>\n",
       "      <td>2</td>\n",
       "      <td>0</td>\n",
       "      <td>2020-04-22</td>\n",
       "      <td>2020-04-13</td>\n",
       "      <td>2020-06-29</td>\n",
       "      <td>77</td>\n",
       "      <td>4.0</td>\n",
       "    </tr>\n",
       "  </tbody>\n",
       "</table>\n",
       "<p>5 rows × 25 columns</p>\n",
       "</div>"
      ],
      "text/plain": [
       "         id  sex  intubed  pneumonia  age  pregnancy  diabetes  copd  asthma  \\\n",
       "0    167386    1        2          2   54          2         2     2       2   \n",
       "1    0b5948    2        2          1   30          2         2     2       2   \n",
       "2    0d01b5    1        2          2   60          2         1     2       2   \n",
       "3    1beec8    2        2          1   47          2         1     2       2   \n",
       "4  1.75E+56    2        2          2   63          2         2     2       2   \n",
       "\n",
       "   inmsupr  ...  tobacco  contact_other_covid  covid_res  icu  DEATH  \\\n",
       "0        2  ...        2                    3          1    2      0   \n",
       "1        2  ...        2                    3          1    2      0   \n",
       "2        2  ...        2                    3          1    2      1   \n",
       "3        2  ...        2                    3          1    1      1   \n",
       "4        2  ...        2                    3          1    2      0   \n",
       "\n",
       "        d_ent       d_sym      d_last  diff_days  age_grp  \n",
       "0  2020-04-06  2020-04-01  2020-06-29         89      3.0  \n",
       "1  2020-04-17  2020-04-10  2020-06-29         80      2.0  \n",
       "2  2020-04-13  2020-04-13  2020-04-22          9      4.0  \n",
       "3  2020-04-16  2020-04-16  2020-04-29         13      3.0  \n",
       "4  2020-04-22  2020-04-13  2020-06-29         77      4.0  \n",
       "\n",
       "[5 rows x 25 columns]"
      ]
     },
     "execution_count": 3,
     "metadata": {},
     "output_type": "execute_result"
    }
   ],
   "source": [
    "df.head()"
   ]
  },
  {
   "cell_type": "code",
   "execution_count": 4,
   "metadata": {},
   "outputs": [
    {
     "data": {
      "text/html": [
       "<div>\n",
       "<style scoped>\n",
       "    .dataframe tbody tr th:only-of-type {\n",
       "        vertical-align: middle;\n",
       "    }\n",
       "\n",
       "    .dataframe tbody tr th {\n",
       "        vertical-align: top;\n",
       "    }\n",
       "\n",
       "    .dataframe thead th {\n",
       "        text-align: right;\n",
       "    }\n",
       "</style>\n",
       "<table border=\"1\" class=\"dataframe\">\n",
       "  <thead>\n",
       "    <tr style=\"text-align: right;\">\n",
       "      <th></th>\n",
       "      <th>sex</th>\n",
       "      <th>intubed</th>\n",
       "      <th>pneumonia</th>\n",
       "      <th>age</th>\n",
       "      <th>pregnancy</th>\n",
       "      <th>diabetes</th>\n",
       "      <th>copd</th>\n",
       "      <th>asthma</th>\n",
       "      <th>inmsupr</th>\n",
       "      <th>hypertension</th>\n",
       "      <th>...</th>\n",
       "      <th>obesity</th>\n",
       "      <th>cardiovascular</th>\n",
       "      <th>renal_chronic</th>\n",
       "      <th>tobacco</th>\n",
       "      <th>contact_other_covid</th>\n",
       "      <th>covid_res</th>\n",
       "      <th>icu</th>\n",
       "      <th>DEATH</th>\n",
       "      <th>diff_days</th>\n",
       "      <th>age_grp</th>\n",
       "    </tr>\n",
       "  </thead>\n",
       "  <tbody>\n",
       "    <tr>\n",
       "      <th>count</th>\n",
       "      <td>121395.000000</td>\n",
       "      <td>121395.000000</td>\n",
       "      <td>121395.000000</td>\n",
       "      <td>121395.000000</td>\n",
       "      <td>121395.000000</td>\n",
       "      <td>121395.000000</td>\n",
       "      <td>121395.000000</td>\n",
       "      <td>121395.000000</td>\n",
       "      <td>121395.000000</td>\n",
       "      <td>121395.000000</td>\n",
       "      <td>...</td>\n",
       "      <td>121395.000000</td>\n",
       "      <td>121395.000000</td>\n",
       "      <td>121395.000000</td>\n",
       "      <td>121395.000000</td>\n",
       "      <td>121395.000000</td>\n",
       "      <td>121395.000000</td>\n",
       "      <td>121395.000000</td>\n",
       "      <td>121395.000000</td>\n",
       "      <td>121395.000000</td>\n",
       "      <td>121395.000000</td>\n",
       "    </tr>\n",
       "    <tr>\n",
       "      <th>mean</th>\n",
       "      <td>1.599374</td>\n",
       "      <td>1.919198</td>\n",
       "      <td>1.394950</td>\n",
       "      <td>52.957577</td>\n",
       "      <td>1.992561</td>\n",
       "      <td>1.714560</td>\n",
       "      <td>1.959776</td>\n",
       "      <td>1.979027</td>\n",
       "      <td>1.966770</td>\n",
       "      <td>1.674105</td>\n",
       "      <td>...</td>\n",
       "      <td>1.799275</td>\n",
       "      <td>1.953655</td>\n",
       "      <td>1.945583</td>\n",
       "      <td>1.917081</td>\n",
       "      <td>2.367676</td>\n",
       "      <td>1.557519</td>\n",
       "      <td>1.917987</td>\n",
       "      <td>0.266914</td>\n",
       "      <td>32.845092</td>\n",
       "      <td>3.187380</td>\n",
       "    </tr>\n",
       "    <tr>\n",
       "      <th>std</th>\n",
       "      <td>0.490027</td>\n",
       "      <td>0.276166</td>\n",
       "      <td>0.488859</td>\n",
       "      <td>19.237785</td>\n",
       "      <td>0.100507</td>\n",
       "      <td>0.463632</td>\n",
       "      <td>0.219534</td>\n",
       "      <td>0.173651</td>\n",
       "      <td>0.208078</td>\n",
       "      <td>0.479277</td>\n",
       "      <td>...</td>\n",
       "      <td>0.413378</td>\n",
       "      <td>0.234145</td>\n",
       "      <td>0.247939</td>\n",
       "      <td>0.294203</td>\n",
       "      <td>0.718388</td>\n",
       "      <td>0.694507</td>\n",
       "      <td>0.278025</td>\n",
       "      <td>0.442349</td>\n",
       "      <td>27.360004</td>\n",
       "      <td>0.970514</td>\n",
       "    </tr>\n",
       "    <tr>\n",
       "      <th>min</th>\n",
       "      <td>1.000000</td>\n",
       "      <td>1.000000</td>\n",
       "      <td>1.000000</td>\n",
       "      <td>0.000000</td>\n",
       "      <td>1.000000</td>\n",
       "      <td>1.000000</td>\n",
       "      <td>1.000000</td>\n",
       "      <td>1.000000</td>\n",
       "      <td>1.000000</td>\n",
       "      <td>1.000000</td>\n",
       "      <td>...</td>\n",
       "      <td>1.000000</td>\n",
       "      <td>1.000000</td>\n",
       "      <td>1.000000</td>\n",
       "      <td>1.000000</td>\n",
       "      <td>1.000000</td>\n",
       "      <td>1.000000</td>\n",
       "      <td>1.000000</td>\n",
       "      <td>0.000000</td>\n",
       "      <td>0.000000</td>\n",
       "      <td>1.000000</td>\n",
       "    </tr>\n",
       "    <tr>\n",
       "      <th>25%</th>\n",
       "      <td>1.000000</td>\n",
       "      <td>2.000000</td>\n",
       "      <td>1.000000</td>\n",
       "      <td>42.000000</td>\n",
       "      <td>2.000000</td>\n",
       "      <td>1.000000</td>\n",
       "      <td>2.000000</td>\n",
       "      <td>2.000000</td>\n",
       "      <td>2.000000</td>\n",
       "      <td>1.000000</td>\n",
       "      <td>...</td>\n",
       "      <td>2.000000</td>\n",
       "      <td>2.000000</td>\n",
       "      <td>2.000000</td>\n",
       "      <td>2.000000</td>\n",
       "      <td>2.000000</td>\n",
       "      <td>1.000000</td>\n",
       "      <td>2.000000</td>\n",
       "      <td>0.000000</td>\n",
       "      <td>11.000000</td>\n",
       "      <td>3.000000</td>\n",
       "    </tr>\n",
       "    <tr>\n",
       "      <th>50%</th>\n",
       "      <td>2.000000</td>\n",
       "      <td>2.000000</td>\n",
       "      <td>1.000000</td>\n",
       "      <td>55.000000</td>\n",
       "      <td>2.000000</td>\n",
       "      <td>2.000000</td>\n",
       "      <td>2.000000</td>\n",
       "      <td>2.000000</td>\n",
       "      <td>2.000000</td>\n",
       "      <td>2.000000</td>\n",
       "      <td>...</td>\n",
       "      <td>2.000000</td>\n",
       "      <td>2.000000</td>\n",
       "      <td>2.000000</td>\n",
       "      <td>2.000000</td>\n",
       "      <td>3.000000</td>\n",
       "      <td>1.000000</td>\n",
       "      <td>2.000000</td>\n",
       "      <td>0.000000</td>\n",
       "      <td>24.000000</td>\n",
       "      <td>3.000000</td>\n",
       "    </tr>\n",
       "    <tr>\n",
       "      <th>75%</th>\n",
       "      <td>2.000000</td>\n",
       "      <td>2.000000</td>\n",
       "      <td>2.000000</td>\n",
       "      <td>66.000000</td>\n",
       "      <td>2.000000</td>\n",
       "      <td>2.000000</td>\n",
       "      <td>2.000000</td>\n",
       "      <td>2.000000</td>\n",
       "      <td>2.000000</td>\n",
       "      <td>2.000000</td>\n",
       "      <td>...</td>\n",
       "      <td>2.000000</td>\n",
       "      <td>2.000000</td>\n",
       "      <td>2.000000</td>\n",
       "      <td>2.000000</td>\n",
       "      <td>3.000000</td>\n",
       "      <td>2.000000</td>\n",
       "      <td>2.000000</td>\n",
       "      <td>1.000000</td>\n",
       "      <td>49.000000</td>\n",
       "      <td>4.000000</td>\n",
       "    </tr>\n",
       "    <tr>\n",
       "      <th>max</th>\n",
       "      <td>2.000000</td>\n",
       "      <td>3.000000</td>\n",
       "      <td>3.000000</td>\n",
       "      <td>118.000000</td>\n",
       "      <td>3.000000</td>\n",
       "      <td>3.000000</td>\n",
       "      <td>3.000000</td>\n",
       "      <td>3.000000</td>\n",
       "      <td>3.000000</td>\n",
       "      <td>3.000000</td>\n",
       "      <td>...</td>\n",
       "      <td>3.000000</td>\n",
       "      <td>3.000000</td>\n",
       "      <td>3.000000</td>\n",
       "      <td>3.000000</td>\n",
       "      <td>3.000000</td>\n",
       "      <td>3.000000</td>\n",
       "      <td>3.000000</td>\n",
       "      <td>1.000000</td>\n",
       "      <td>180.000000</td>\n",
       "      <td>5.000000</td>\n",
       "    </tr>\n",
       "  </tbody>\n",
       "</table>\n",
       "<p>8 rows × 21 columns</p>\n",
       "</div>"
      ],
      "text/plain": [
       "                 sex        intubed      pneumonia            age  \\\n",
       "count  121395.000000  121395.000000  121395.000000  121395.000000   \n",
       "mean        1.599374       1.919198       1.394950      52.957577   \n",
       "std         0.490027       0.276166       0.488859      19.237785   \n",
       "min         1.000000       1.000000       1.000000       0.000000   \n",
       "25%         1.000000       2.000000       1.000000      42.000000   \n",
       "50%         2.000000       2.000000       1.000000      55.000000   \n",
       "75%         2.000000       2.000000       2.000000      66.000000   \n",
       "max         2.000000       3.000000       3.000000     118.000000   \n",
       "\n",
       "           pregnancy       diabetes           copd         asthma  \\\n",
       "count  121395.000000  121395.000000  121395.000000  121395.000000   \n",
       "mean        1.992561       1.714560       1.959776       1.979027   \n",
       "std         0.100507       0.463632       0.219534       0.173651   \n",
       "min         1.000000       1.000000       1.000000       1.000000   \n",
       "25%         2.000000       1.000000       2.000000       2.000000   \n",
       "50%         2.000000       2.000000       2.000000       2.000000   \n",
       "75%         2.000000       2.000000       2.000000       2.000000   \n",
       "max         3.000000       3.000000       3.000000       3.000000   \n",
       "\n",
       "             inmsupr   hypertension  ...        obesity  cardiovascular  \\\n",
       "count  121395.000000  121395.000000  ...  121395.000000   121395.000000   \n",
       "mean        1.966770       1.674105  ...       1.799275        1.953655   \n",
       "std         0.208078       0.479277  ...       0.413378        0.234145   \n",
       "min         1.000000       1.000000  ...       1.000000        1.000000   \n",
       "25%         2.000000       1.000000  ...       2.000000        2.000000   \n",
       "50%         2.000000       2.000000  ...       2.000000        2.000000   \n",
       "75%         2.000000       2.000000  ...       2.000000        2.000000   \n",
       "max         3.000000       3.000000  ...       3.000000        3.000000   \n",
       "\n",
       "       renal_chronic        tobacco  contact_other_covid      covid_res  \\\n",
       "count  121395.000000  121395.000000        121395.000000  121395.000000   \n",
       "mean        1.945583       1.917081             2.367676       1.557519   \n",
       "std         0.247939       0.294203             0.718388       0.694507   \n",
       "min         1.000000       1.000000             1.000000       1.000000   \n",
       "25%         2.000000       2.000000             2.000000       1.000000   \n",
       "50%         2.000000       2.000000             3.000000       1.000000   \n",
       "75%         2.000000       2.000000             3.000000       2.000000   \n",
       "max         3.000000       3.000000             3.000000       3.000000   \n",
       "\n",
       "                 icu          DEATH      diff_days        age_grp  \n",
       "count  121395.000000  121395.000000  121395.000000  121395.000000  \n",
       "mean        1.917987       0.266914      32.845092       3.187380  \n",
       "std         0.278025       0.442349      27.360004       0.970514  \n",
       "min         1.000000       0.000000       0.000000       1.000000  \n",
       "25%         2.000000       0.000000      11.000000       3.000000  \n",
       "50%         2.000000       0.000000      24.000000       3.000000  \n",
       "75%         2.000000       1.000000      49.000000       4.000000  \n",
       "max         3.000000       1.000000     180.000000       5.000000  \n",
       "\n",
       "[8 rows x 21 columns]"
      ]
     },
     "execution_count": 4,
     "metadata": {},
     "output_type": "execute_result"
    }
   ],
   "source": [
    "df.describe()"
   ]
  },
  {
   "cell_type": "markdown",
   "metadata": {},
   "source": [
    "## 변수 설정"
   ]
  },
  {
   "cell_type": "code",
   "execution_count": 5,
   "metadata": {},
   "outputs": [],
   "source": [
    "X = df[['sex', 'intubed','age_grp','pneumonia',\n",
    "        'pregnancy', 'diabetes', 'copd', \n",
    "        'asthma','inmsupr','hypertension',\n",
    "        'other_disease','cardiovascular',\n",
    "        'obesity', 'renal_chronic', 'tobacco', \n",
    "        'contact_other_covid', 'covid_res', 'icu']]\n",
    "\n",
    "Y = df['DEATH']"
   ]
  },
  {
   "cell_type": "markdown",
   "metadata": {},
   "source": [
    "# 정규화"
   ]
  },
  {
   "cell_type": "code",
   "execution_count": 6,
   "metadata": {},
   "outputs": [],
   "source": [
    "min_max_scaler = preprocessing.MinMaxScaler()\n",
    "x_scaled = min_max_scaler.fit_transform(X)\n",
    "X = pd.DataFrame(x_scaled)"
   ]
  },
  {
   "cell_type": "markdown",
   "metadata": {},
   "source": [
    "##### train/test 데이터 셋 분리"
   ]
  },
  {
   "cell_type": "code",
   "execution_count": 7,
   "metadata": {},
   "outputs": [],
   "source": [
    "x_train, x_test, y_train, y_test = train_test_split(X, Y, test_size = 0.2, shuffle = True, random_state = 1004)"
   ]
  },
  {
   "cell_type": "markdown",
   "metadata": {},
   "source": [
    "### 1. Logistic Regression - Deep Neural Network(Tensorflow2)"
   ]
  },
  {
   "cell_type": "code",
   "execution_count": 8,
   "metadata": {},
   "outputs": [
    {
     "name": "stdout",
     "output_type": "stream",
     "text": [
      "Festures: [0.   0.5  0.25 0.5  0.5  0.5  0.5  0.5  0.5  0.5  0.5  0.5  0.5  0.5\n",
      " 0.5  1.   0.   0.5 ], Target: 0\n",
      "Festures: [0.  0.5 0.5 0.  0.5 0.  0.5 0.5 0.5 0.  0.5 0.  0.5 0.5 0.5 1.  0.  0.5], Target: 0\n",
      "Festures: [1.   0.5  0.75 0.   0.5  0.   0.5  0.5  0.5  0.   0.5  0.5  0.5  0.5\n",
      " 0.5  1.   0.5  0.5 ], Target: 1\n",
      "Festures: [0.   0.5  0.75 0.5  0.5  0.5  0.5  0.5  0.5  0.5  0.5  0.5  0.5  0.5\n",
      " 0.5  0.5  0.   0.5 ], Target: 0\n",
      "Festures: [1.   0.   0.75 0.   0.5  0.5  0.5  0.5  0.5  0.5  0.5  0.5  0.5  0.5\n",
      " 0.5  0.   0.   0.  ], Target: 0\n"
     ]
    }
   ],
   "source": [
    "dataset = tf.data.Dataset.from_tensor_slices((x_train.values, y_train.values))\n",
    "\n",
    "for feat, targ in dataset.take(5):\n",
    "    print('Festures: {}, Target: {}'.format(feat, targ))"
   ]
  },
  {
   "cell_type": "code",
   "execution_count": 9,
   "metadata": {},
   "outputs": [],
   "source": [
    "train_dataset = dataset.batch(100)"
   ]
  },
  {
   "cell_type": "code",
   "execution_count": 10,
   "metadata": {},
   "outputs": [],
   "source": [
    "def get_compiled_model():\n",
    "    \n",
    "    model = tf.keras.Sequential([\n",
    "        tf.keras.layers.Dense(512, kernel_initializer='glorot_uniform', activation='relu'),\n",
    "        tf.keras.layers.Dense(256, activation='sigmoid'),\n",
    "        tf.keras.layers.Dense(128, activation='sigmoid'),\n",
    "        tf.keras.layers.Dense(1, activation='sigmoid')\n",
    "    ])\n",
    "    \n",
    "    model.compile(optimizer='adam',\n",
    "                  loss=tf.keras.losses.BinaryCrossentropy(from_logits=False),\n",
    "                  metrics=['binary_accuracy'])\n",
    "    return model"
   ]
  },
  {
   "cell_type": "markdown",
   "metadata": {},
   "source": [
    "##### 학습과 동시에 검증"
   ]
  },
  {
   "cell_type": "code",
   "execution_count": 11,
   "metadata": {},
   "outputs": [
    {
     "name": "stdout",
     "output_type": "stream",
     "text": [
      "Train for 972 steps, validate on 24279 samples\n",
      "Epoch 1/15\n",
      "972/972 - 2s - loss: 0.4930 - binary_accuracy: 0.7636 - val_loss: 0.4855 - val_binary_accuracy: 0.7672\n",
      "Epoch 2/15\n",
      "972/972 - 2s - loss: 0.4803 - binary_accuracy: 0.7715 - val_loss: 0.4820 - val_binary_accuracy: 0.7690\n",
      "Epoch 3/15\n",
      "972/972 - 2s - loss: 0.4787 - binary_accuracy: 0.7725 - val_loss: 0.4807 - val_binary_accuracy: 0.7699\n",
      "Epoch 4/15\n",
      "972/972 - 2s - loss: 0.4779 - binary_accuracy: 0.7729 - val_loss: 0.4803 - val_binary_accuracy: 0.7693\n",
      "Epoch 5/15\n",
      "972/972 - 2s - loss: 0.4773 - binary_accuracy: 0.7732 - val_loss: 0.4802 - val_binary_accuracy: 0.7688\n",
      "Epoch 6/15\n",
      "972/972 - 2s - loss: 0.4768 - binary_accuracy: 0.7735 - val_loss: 0.4803 - val_binary_accuracy: 0.7686\n",
      "Epoch 7/15\n",
      "972/972 - 2s - loss: 0.4764 - binary_accuracy: 0.7737 - val_loss: 0.4806 - val_binary_accuracy: 0.7688\n",
      "Epoch 8/15\n",
      "972/972 - 2s - loss: 0.4759 - binary_accuracy: 0.7740 - val_loss: 0.4813 - val_binary_accuracy: 0.7687\n",
      "Epoch 9/15\n",
      "972/972 - 2s - loss: 0.4756 - binary_accuracy: 0.7740 - val_loss: 0.4816 - val_binary_accuracy: 0.7684\n",
      "Epoch 10/15\n",
      "972/972 - 2s - loss: 0.4753 - binary_accuracy: 0.7745 - val_loss: 0.4820 - val_binary_accuracy: 0.7685\n",
      "Epoch 11/15\n",
      "972/972 - 2s - loss: 0.4750 - binary_accuracy: 0.7744 - val_loss: 0.4820 - val_binary_accuracy: 0.7686\n",
      "Epoch 12/15\n",
      "972/972 - 2s - loss: 0.4747 - binary_accuracy: 0.7744 - val_loss: 0.4825 - val_binary_accuracy: 0.7684\n",
      "Epoch 13/15\n",
      "972/972 - 2s - loss: 0.4745 - binary_accuracy: 0.7744 - val_loss: 0.4826 - val_binary_accuracy: 0.7686\n",
      "Epoch 14/15\n",
      "972/972 - 2s - loss: 0.4742 - binary_accuracy: 0.7744 - val_loss: 0.4826 - val_binary_accuracy: 0.7686\n",
      "Epoch 15/15\n",
      "972/972 - 2s - loss: 0.4740 - binary_accuracy: 0.7747 - val_loss: 0.4827 - val_binary_accuracy: 0.7685\n"
     ]
    }
   ],
   "source": [
    "model = get_compiled_model()\n",
    "\n",
    "hist = model.fit(train_dataset, epochs=15,\n",
    "                 validation_data=(x_test, y_test),\n",
    "                 validation_steps=100,\n",
    "                 verbose=2)"
   ]
  },
  {
   "cell_type": "markdown",
   "metadata": {},
   "source": [
    "## 시각화"
   ]
  },
  {
   "cell_type": "code",
   "execution_count": 12,
   "metadata": {},
   "outputs": [
    {
     "data": {
      "image/png": "[encoded data removed]",
      "text/plain": [
       "<Figure size 576x288 with 2 Axes>"
      ]
     },
     "metadata": {
      "needs_background": "light"
     },
     "output_type": "display_data"
    }
   ],
   "source": [
    "plt.figure(figsize=(8, 4))\n",
    "plt.subplot(1,2,1)\n",
    "plt.plot(hist.history['loss'])\n",
    "plt.title(\"loss\")\n",
    "plt.subplot(1,2,2)\n",
    "plt.title(\"accuracy\")\n",
    "plt.plot(hist.history['binary_accuracy'], 'b-', label=\"training\")\n",
    "plt.plot(hist.history['val_binary_accuracy'], 'r:', label=\"validation\")\n",
    "plt.legend()\n",
    "plt.tight_layout()\n",
    "plt.show()"
   ]
  },
  {
   "cell_type": "markdown",
   "metadata": {},
   "source": [
    "##### classification report"
   ]
  },
  {
   "cell_type": "code",
   "execution_count": 13,
   "metadata": {},
   "outputs": [],
   "source": [
    "pred = model.predict(x_test)"
   ]
  },
  {
   "cell_type": "markdown",
   "metadata": {},
   "source": [
    "- pred 의 결과는 float 형식으로 반환된다\n",
    "- One hot encoding 변환이 필요하며, 패키지 도움 없이 아래와 같이 변환할 수 있다"
   ]
  },
  {
   "cell_type": "code",
   "execution_count": 14,
   "metadata": {},
   "outputs": [],
   "source": [
    "df_pred = pd.DataFrame(pred, columns=['Y_pred'])\n",
    "Y_pred = df_pred['Y_pred'].apply(lambda x : 1 if x >= 0.5 else 0)"
   ]
  },
  {
   "cell_type": "code",
   "execution_count": 15,
   "metadata": {},
   "outputs": [
    {
     "name": "stdout",
     "output_type": "stream",
     "text": [
      "              precision    recall  f1-score   support\n",
      "\n",
      "           0       0.79      0.93      0.85     17772\n",
      "           1       0.63      0.33      0.43      6507\n",
      "\n",
      "    accuracy                           0.77     24279\n",
      "   macro avg       0.71      0.63      0.64     24279\n",
      "weighted avg       0.75      0.77      0.74     24279\n",
      "\n"
     ]
    }
   ],
   "source": [
    "print(classification_report(y_test, Y_pred))"
   ]
  },
  {
   "cell_type": "markdown",
   "metadata": {},
   "source": [
    "- 생존(0) 이라고 예측한 데이터의 79%만 실제로 생존 (precision)\n",
    "- 사망(1) 이라고 예측한 데이터의 63%만 실제로 사망\n",
    "- 실제 생존인 데이터중의 93%가 생존으로 예측되었음 (recall)\n",
    "- 실제 사망인 데이터중의 33%만 사망으로 예측되었음\n",
    "- 모델 정확도 77%"
   ]
  },
  {
   "cell_type": "code",
   "execution_count": 16,
   "metadata": {},
   "outputs": [
    {
     "name": "stdout",
     "output_type": "stream",
     "text": [
      "accuracy : 0.769\n",
      "recall : 0.330\n",
      "f1_score : 0.433\n"
     ]
    }
   ],
   "source": [
    "print('accuracy : %.3f' % accuracy_score(y_true = y_test, y_pred = Y_pred))\n",
    "print('recall : %.3f' % recall_score(y_true = y_test, y_pred = Y_pred))\n",
    "print('f1_score : %.3f' % f1_score(y_true = y_test, y_pred = Y_pred))"
   ]
  },
  {
   "cell_type": "code",
   "execution_count": 17,
   "metadata": {},
   "outputs": [],
   "source": [
    "f_value = model.predict_proba(x_test)"
   ]
  },
  {
   "cell_type": "code",
   "execution_count": 18,
   "metadata": {},
   "outputs": [
    {
     "data": {
      "text/plain": [
       "(array([0.00000000e+00, 1.12536574e-04, 1.12536574e-04, ...,\n",
       "        9.98593293e-01, 9.99943732e-01, 1.00000000e+00]),\n",
       " array([0.00000000e+00, 0.00000000e+00, 3.07361303e-04, ...,\n",
       "        1.00000000e+00, 1.00000000e+00, 1.00000000e+00]),\n",
       " array([1.7777965 , 0.77779657, 0.7730627 , ..., 0.00823157, 0.00817043,\n",
       "        0.00794164], dtype=float32))"
      ]
     },
     "execution_count": 18,
     "metadata": {},
     "output_type": "execute_result"
    }
   ],
   "source": [
    "fpr, tpr, thresholds = roc_curve(y_test, f_value[:,0])\n",
    "fpr, tpr, thresholds"
   ]
  },
  {
   "cell_type": "code",
   "execution_count": 19,
   "metadata": {},
   "outputs": [
    {
     "data": {
      "image/png": "[encoded data removed]",
      "text/plain": [
       "<Figure size 576x576 with 1 Axes>"
      ]
     },
     "metadata": {
      "needs_background": "light"
     },
     "output_type": "display_data"
    }
   ],
   "source": [
    "plt.figure(figsize=(8,8))\n",
    "plt.rc('axes', titlesize=25)   \n",
    "plt.rc('axes', labelsize=20)  \n",
    "plt.rc('xtick', labelsize=15)   \n",
    "plt.rc('ytick', labelsize=15) \n",
    "plt.rc('legend', fontsize=13)\n",
    "\n",
    "plt.plot(fpr, tpr, '--', linewidth=4.5, label=\"Logistic Regression\")\n",
    "plt.plot([0, 1], [0, 1], 'k--', linewidth=2, label=\"random guess\")\n",
    "plt.xlabel('False positive rate')\n",
    "plt.ylabel('True positive rate')\n",
    "plt.title('Classification - Logistic_dnn')\n",
    "plt.legend()\n",
    "\n",
    "plt.savefig('result/images/roc_dnn.png', dpi=300)"
   ]
  },
  {
   "cell_type": "code",
   "execution_count": 20,
   "metadata": {},
   "outputs": [
    {
     "name": "stdout",
     "output_type": "stream",
     "text": [
      "AUC : 0.779\n"
     ]
    }
   ],
   "source": [
    "print('AUC : %.3f' % auc(fpr, tpr))"
   ]
  },
  {
   "cell_type": "code",
   "execution_count": 21,
   "metadata": {},
   "outputs": [],
   "source": [
    "d_tpr = pd.DataFrame({'tpr':tpr} )\n",
    "d_fpr = pd.DataFrame({'fpr':fpr} )"
   ]
  },
  {
   "cell_type": "code",
   "execution_count": 22,
   "metadata": {},
   "outputs": [
    {
     "data": {
      "text/html": [
       "<div>\n",
       "<style scoped>\n",
       "    .dataframe tbody tr th:only-of-type {\n",
       "        vertical-align: middle;\n",
       "    }\n",
       "\n",
       "    .dataframe tbody tr th {\n",
       "        vertical-align: top;\n",
       "    }\n",
       "\n",
       "    .dataframe thead th {\n",
       "        text-align: right;\n",
       "    }\n",
       "</style>\n",
       "<table border=\"1\" class=\"dataframe\">\n",
       "  <thead>\n",
       "    <tr style=\"text-align: right;\">\n",
       "      <th></th>\n",
       "      <th>tpr</th>\n",
       "      <th>fpr</th>\n",
       "    </tr>\n",
       "  </thead>\n",
       "  <tbody>\n",
       "    <tr>\n",
       "      <th>0</th>\n",
       "      <td>0.000000</td>\n",
       "      <td>0.000000</td>\n",
       "    </tr>\n",
       "    <tr>\n",
       "      <th>1</th>\n",
       "      <td>0.000000</td>\n",
       "      <td>0.000113</td>\n",
       "    </tr>\n",
       "    <tr>\n",
       "      <th>2</th>\n",
       "      <td>0.000307</td>\n",
       "      <td>0.000113</td>\n",
       "    </tr>\n",
       "    <tr>\n",
       "      <th>3</th>\n",
       "      <td>0.000461</td>\n",
       "      <td>0.000169</td>\n",
       "    </tr>\n",
       "    <tr>\n",
       "      <th>4</th>\n",
       "      <td>0.001229</td>\n",
       "      <td>0.000169</td>\n",
       "    </tr>\n",
       "    <tr>\n",
       "      <th>...</th>\n",
       "      <td>...</td>\n",
       "      <td>...</td>\n",
       "    </tr>\n",
       "    <tr>\n",
       "      <th>4581</th>\n",
       "      <td>1.000000</td>\n",
       "      <td>0.998256</td>\n",
       "    </tr>\n",
       "    <tr>\n",
       "      <th>4582</th>\n",
       "      <td>1.000000</td>\n",
       "      <td>0.998424</td>\n",
       "    </tr>\n",
       "    <tr>\n",
       "      <th>4583</th>\n",
       "      <td>1.000000</td>\n",
       "      <td>0.998593</td>\n",
       "    </tr>\n",
       "    <tr>\n",
       "      <th>4584</th>\n",
       "      <td>1.000000</td>\n",
       "      <td>0.999944</td>\n",
       "    </tr>\n",
       "    <tr>\n",
       "      <th>4585</th>\n",
       "      <td>1.000000</td>\n",
       "      <td>1.000000</td>\n",
       "    </tr>\n",
       "  </tbody>\n",
       "</table>\n",
       "<p>4586 rows × 2 columns</p>\n",
       "</div>"
      ],
      "text/plain": [
       "           tpr       fpr\n",
       "0     0.000000  0.000000\n",
       "1     0.000000  0.000113\n",
       "2     0.000307  0.000113\n",
       "3     0.000461  0.000169\n",
       "4     0.001229  0.000169\n",
       "...        ...       ...\n",
       "4581  1.000000  0.998256\n",
       "4582  1.000000  0.998424\n",
       "4583  1.000000  0.998593\n",
       "4584  1.000000  0.999944\n",
       "4585  1.000000  1.000000\n",
       "\n",
       "[4586 rows x 2 columns]"
      ]
     },
     "execution_count": 22,
     "metadata": {},
     "output_type": "execute_result"
    }
   ],
   "source": [
    "clf_dnn = pd.concat([d_tpr, d_fpr], axis = 1)\n",
    "clf_dnn"
   ]
  },
  {
   "cell_type": "code",
   "execution_count": 23,
   "metadata": {},
   "outputs": [],
   "source": [
    "clf_dnn.to_csv('clf_dnn.csv', encoding='utf-8', index=False, line_terminator='\\n')"
   ]
  },
  {
   "cell_type": "markdown",
   "metadata": {},
   "source": [
    "### 2. Logistic Regression - sklearn"
   ]
  },
  {
   "cell_type": "code",
   "execution_count": 24,
   "metadata": {},
   "outputs": [],
   "source": [
    "from sklearn.linear_model import LogisticRegression"
   ]
  },
  {
   "cell_type": "markdown",
   "metadata": {},
   "source": [
    "##### 모델 생성 및 예측"
   ]
  },
  {
   "cell_type": "code",
   "execution_count": 25,
   "metadata": {},
   "outputs": [
    {
     "name": "stdout",
     "output_type": "stream",
     "text": [
      "0.7706454137320318\n"
     ]
    }
   ],
   "source": [
    "model2 = LogisticRegression()\n",
    "skl_model = model2.fit(x_train, y_train)\n",
    "print(model2.score(x_train, y_train))"
   ]
  },
  {
   "cell_type": "markdown",
   "metadata": {},
   "source": [
    "##### 변수의 계수 확인"
   ]
  },
  {
   "cell_type": "code",
   "execution_count": 26,
   "metadata": {},
   "outputs": [
    {
     "name": "stdout",
     "output_type": "stream",
     "text": [
      "[[ 0.24382347 -3.24616632  2.26895099 -1.47764447  1.02885659 -0.31457256\n",
      "   0.168963    0.57557738 -0.20514733 -0.18830547 -0.32145475  0.15762325\n",
      "  -0.19474375 -0.53913073  0.17613644  1.43251373 -1.57323905 -0.10043654]]\n"
     ]
    }
   ],
   "source": [
    "print(model2.coef_)"
   ]
  },
  {
   "cell_type": "markdown",
   "metadata": {},
   "source": [
    "##### 테스트 데이터 예측하기"
   ]
  },
  {
   "cell_type": "code",
   "execution_count": 27,
   "metadata": {},
   "outputs": [
    {
     "data": {
      "text/plain": [
       "(24279,)"
      ]
     },
     "execution_count": 27,
     "metadata": {},
     "output_type": "execute_result"
    }
   ],
   "source": [
    "Y_pred2 = model2.predict(x_test)\n",
    "Y_pred2.shape"
   ]
  },
  {
   "cell_type": "markdown",
   "metadata": {},
   "source": [
    "##### 예측된 테스트 데이터 검증"
   ]
  },
  {
   "cell_type": "code",
   "execution_count": 28,
   "metadata": {},
   "outputs": [
    {
     "data": {
      "text/plain": [
       "0.7652703982865852"
      ]
     },
     "execution_count": 28,
     "metadata": {},
     "output_type": "execute_result"
    }
   ],
   "source": [
    "accuracy_score(y_test, Y_pred2)"
   ]
  },
  {
   "cell_type": "markdown",
   "metadata": {},
   "source": [
    "##### classification report"
   ]
  },
  {
   "cell_type": "code",
   "execution_count": 29,
   "metadata": {},
   "outputs": [
    {
     "name": "stdout",
     "output_type": "stream",
     "text": [
      "               precision    recall  f1-score   support\n",
      "\n",
      "pred_alive(0)       0.79      0.93      0.85     17772\n",
      " pred_dead(1)       0.62      0.31      0.42      6507\n",
      "\n",
      "     accuracy                           0.77     24279\n",
      "    macro avg       0.71      0.62      0.63     24279\n",
      " weighted avg       0.74      0.77      0.74     24279\n",
      "\n"
     ]
    }
   ],
   "source": [
    "print(classification_report(y_test, Y_pred2, target_names=['pred_alive(0)', 'pred_dead(1)']))"
   ]
  },
  {
   "cell_type": "markdown",
   "metadata": {},
   "source": [
    "- 생존(0) 이라고 예측한 데이터의 79%만 실제로 생존 (precision)\n",
    "- 사망(1) 이라고 예측한 데이터의 62%만 실제로 사망\n",
    "- 실제 생존인 데이터중의 93%가 생존으로 예측되었음 (recall)\n",
    "- 실제 사망인 데이터중의 31%만 사망으로 예측되었음\n",
    "- 모델 정확도 77%"
   ]
  },
  {
   "cell_type": "code",
   "execution_count": 30,
   "metadata": {},
   "outputs": [],
   "source": [
    "f_value2 = model2.decision_function(x_test)"
   ]
  },
  {
   "cell_type": "code",
   "execution_count": 31,
   "metadata": {},
   "outputs": [
    {
     "data": {
      "text/html": [
       "<div>\n",
       "<style scoped>\n",
       "    .dataframe tbody tr th:only-of-type {\n",
       "        vertical-align: middle;\n",
       "    }\n",
       "\n",
       "    .dataframe tbody tr th {\n",
       "        vertical-align: top;\n",
       "    }\n",
       "\n",
       "    .dataframe thead th {\n",
       "        text-align: right;\n",
       "    }\n",
       "</style>\n",
       "<table border=\"1\" class=\"dataframe\">\n",
       "  <thead>\n",
       "    <tr style=\"text-align: right;\">\n",
       "      <th></th>\n",
       "      <th>F</th>\n",
       "      <th>Y_pred</th>\n",
       "      <th>y_test</th>\n",
       "    </tr>\n",
       "  </thead>\n",
       "  <tbody>\n",
       "    <tr>\n",
       "      <th>0</th>\n",
       "      <td>2.962396</td>\n",
       "      <td>1.0</td>\n",
       "      <td>1.0</td>\n",
       "    </tr>\n",
       "    <tr>\n",
       "      <th>1</th>\n",
       "      <td>2.739984</td>\n",
       "      <td>1.0</td>\n",
       "      <td>1.0</td>\n",
       "    </tr>\n",
       "    <tr>\n",
       "      <th>2</th>\n",
       "      <td>2.645832</td>\n",
       "      <td>1.0</td>\n",
       "      <td>1.0</td>\n",
       "    </tr>\n",
       "    <tr>\n",
       "      <th>3</th>\n",
       "      <td>2.535544</td>\n",
       "      <td>1.0</td>\n",
       "      <td>1.0</td>\n",
       "    </tr>\n",
       "    <tr>\n",
       "      <th>4</th>\n",
       "      <td>2.535544</td>\n",
       "      <td>1.0</td>\n",
       "      <td>0.0</td>\n",
       "    </tr>\n",
       "    <tr>\n",
       "      <th>...</th>\n",
       "      <td>...</td>\n",
       "      <td>...</td>\n",
       "      <td>...</td>\n",
       "    </tr>\n",
       "    <tr>\n",
       "      <th>24274</th>\n",
       "      <td>-5.489259</td>\n",
       "      <td>0.0</td>\n",
       "      <td>0.0</td>\n",
       "    </tr>\n",
       "    <tr>\n",
       "      <th>24275</th>\n",
       "      <td>-5.537745</td>\n",
       "      <td>0.0</td>\n",
       "      <td>0.0</td>\n",
       "    </tr>\n",
       "    <tr>\n",
       "      <th>24276</th>\n",
       "      <td>-5.617179</td>\n",
       "      <td>0.0</td>\n",
       "      <td>0.0</td>\n",
       "    </tr>\n",
       "    <tr>\n",
       "      <th>24277</th>\n",
       "      <td>-5.652948</td>\n",
       "      <td>0.0</td>\n",
       "      <td>0.0</td>\n",
       "    </tr>\n",
       "    <tr>\n",
       "      <th>24278</th>\n",
       "      <td>-5.652948</td>\n",
       "      <td>0.0</td>\n",
       "      <td>0.0</td>\n",
       "    </tr>\n",
       "  </tbody>\n",
       "</table>\n",
       "<p>24279 rows × 3 columns</p>\n",
       "</div>"
      ],
      "text/plain": [
       "              F  Y_pred  y_test\n",
       "0      2.962396     1.0     1.0\n",
       "1      2.739984     1.0     1.0\n",
       "2      2.645832     1.0     1.0\n",
       "3      2.535544     1.0     1.0\n",
       "4      2.535544     1.0     0.0\n",
       "...         ...     ...     ...\n",
       "24274 -5.489259     0.0     0.0\n",
       "24275 -5.537745     0.0     0.0\n",
       "24276 -5.617179     0.0     0.0\n",
       "24277 -5.652948     0.0     0.0\n",
       "24278 -5.652948     0.0     0.0\n",
       "\n",
       "[24279 rows x 3 columns]"
      ]
     },
     "execution_count": 31,
     "metadata": {},
     "output_type": "execute_result"
    }
   ],
   "source": [
    "dataseed = pd.DataFrame(np.vstack([f_value2, Y_pred2, y_test]).T, columns=[\"F\", \"Y_pred\", \"y_test\"])\n",
    "dataseed.sort_values(\"F\", ascending=False).reset_index(drop=True)"
   ]
  },
  {
   "cell_type": "code",
   "execution_count": 32,
   "metadata": {},
   "outputs": [
    {
     "data": {
      "text/plain": [
       "array([[ 2022,  4485],\n",
       "       [ 1214, 16558]], dtype=int64)"
      ]
     },
     "execution_count": 32,
     "metadata": {},
     "output_type": "execute_result"
    }
   ],
   "source": [
    "confusion_matrix(y_test, Y_pred2, labels=[1, 0])"
   ]
  },
  {
   "cell_type": "code",
   "execution_count": 33,
   "metadata": {},
   "outputs": [
    {
     "name": "stdout",
     "output_type": "stream",
     "text": [
      "recall = 0.32340215106935344\n",
      "fallout = 0.06689128481581312\n"
     ]
    }
   ],
   "source": [
    "recall = 2616 / (2616 + 5473)\n",
    "fallout = 1489 / (1489 + 20771)\n",
    "print(\"recall =\", recall)\n",
    "print(\"fallout =\", fallout)"
   ]
  },
  {
   "cell_type": "code",
   "execution_count": 34,
   "metadata": {},
   "outputs": [
    {
     "data": {
      "text/plain": [
       "(array([0.        , 0.        , 0.        , ..., 0.99977493, 0.99988746,\n",
       "        1.        ]),\n",
       " array([0.00000000e+00, 1.53680652e-04, 4.61041955e-04, ...,\n",
       "        1.00000000e+00, 1.00000000e+00, 1.00000000e+00]),\n",
       " array([ 3.96239603,  2.96239603,  2.64583154, ..., -5.48925925,\n",
       "        -5.61717881, -5.65294816]))"
      ]
     },
     "execution_count": 34,
     "metadata": {},
     "output_type": "execute_result"
    }
   ],
   "source": [
    "fpr2, tpr2, thresholds2 = roc_curve(y_test, f_value2)\n",
    "fpr2, tpr2, thresholds2"
   ]
  },
  {
   "cell_type": "code",
   "execution_count": 35,
   "metadata": {},
   "outputs": [
    {
     "data": {
      "image/png": "[encoded data removed]",
      "text/plain": [
       "<Figure size 576x576 with 1 Axes>"
      ]
     },
     "metadata": {
      "needs_background": "light"
     },
     "output_type": "display_data"
    }
   ],
   "source": [
    "plt.figure(figsize=(8,8))\n",
    "plt.rc('axes', titlesize=25)   \n",
    "plt.rc('axes', labelsize=20)  \n",
    "plt.rc('xtick', labelsize=15)   \n",
    "plt.rc('ytick', labelsize=15) \n",
    "plt.rc('legend', fontsize=13)\n",
    "\n",
    "plt.plot(fpr2, tpr2, '-.', linewidth=4.5, label=\"Logistic Regression\")\n",
    "plt.plot([0, 1], [0, 1], 'k--', linewidth=2, label=\"random guess\")\n",
    "plt.xlabel('False positive rate')\n",
    "plt.ylabel('True positive rate')\n",
    "plt.title('Classification - Logistic_sklearn')\n",
    "plt.legend()\n",
    "\n",
    "plt.savefig('result/images/roc_skl.png', dpi=300)"
   ]
  },
  {
   "cell_type": "code",
   "execution_count": 36,
   "metadata": {},
   "outputs": [
    {
     "name": "stdout",
     "output_type": "stream",
     "text": [
      "AUC : 0.772\n"
     ]
    }
   ],
   "source": [
    "print('AUC : %.3f' % auc(fpr2, tpr2))"
   ]
  },
  {
   "cell_type": "markdown",
   "metadata": {},
   "source": [
    "##### TPR, FPR export (나중에 그래프 그릴 때 사용)"
   ]
  },
  {
   "cell_type": "code",
   "execution_count": 37,
   "metadata": {},
   "outputs": [],
   "source": [
    "d_tpr2 = pd.DataFrame({'tpr':tpr2})\n",
    "d_fpr2 = pd.DataFrame({'fpr':fpr2})"
   ]
  },
  {
   "cell_type": "code",
   "execution_count": 38,
   "metadata": {},
   "outputs": [
    {
     "data": {
      "text/html": [
       "<div>\n",
       "<style scoped>\n",
       "    .dataframe tbody tr th:only-of-type {\n",
       "        vertical-align: middle;\n",
       "    }\n",
       "\n",
       "    .dataframe tbody tr th {\n",
       "        vertical-align: top;\n",
       "    }\n",
       "\n",
       "    .dataframe thead th {\n",
       "        text-align: right;\n",
       "    }\n",
       "</style>\n",
       "<table border=\"1\" class=\"dataframe\">\n",
       "  <thead>\n",
       "    <tr style=\"text-align: right;\">\n",
       "      <th></th>\n",
       "      <th>tpr</th>\n",
       "      <th>fpr</th>\n",
       "    </tr>\n",
       "  </thead>\n",
       "  <tbody>\n",
       "    <tr>\n",
       "      <th>0</th>\n",
       "      <td>0.000000</td>\n",
       "      <td>0.000000</td>\n",
       "    </tr>\n",
       "    <tr>\n",
       "      <th>1</th>\n",
       "      <td>0.000154</td>\n",
       "      <td>0.000000</td>\n",
       "    </tr>\n",
       "    <tr>\n",
       "      <th>2</th>\n",
       "      <td>0.000461</td>\n",
       "      <td>0.000000</td>\n",
       "    </tr>\n",
       "    <tr>\n",
       "      <th>3</th>\n",
       "      <td>0.000615</td>\n",
       "      <td>0.000056</td>\n",
       "    </tr>\n",
       "    <tr>\n",
       "      <th>4</th>\n",
       "      <td>0.000922</td>\n",
       "      <td>0.000056</td>\n",
       "    </tr>\n",
       "    <tr>\n",
       "      <th>...</th>\n",
       "      <td>...</td>\n",
       "      <td>...</td>\n",
       "    </tr>\n",
       "    <tr>\n",
       "      <th>4447</th>\n",
       "      <td>1.000000</td>\n",
       "      <td>0.999494</td>\n",
       "    </tr>\n",
       "    <tr>\n",
       "      <th>4448</th>\n",
       "      <td>1.000000</td>\n",
       "      <td>0.999662</td>\n",
       "    </tr>\n",
       "    <tr>\n",
       "      <th>4449</th>\n",
       "      <td>1.000000</td>\n",
       "      <td>0.999775</td>\n",
       "    </tr>\n",
       "    <tr>\n",
       "      <th>4450</th>\n",
       "      <td>1.000000</td>\n",
       "      <td>0.999887</td>\n",
       "    </tr>\n",
       "    <tr>\n",
       "      <th>4451</th>\n",
       "      <td>1.000000</td>\n",
       "      <td>1.000000</td>\n",
       "    </tr>\n",
       "  </tbody>\n",
       "</table>\n",
       "<p>4452 rows × 2 columns</p>\n",
       "</div>"
      ],
      "text/plain": [
       "           tpr       fpr\n",
       "0     0.000000  0.000000\n",
       "1     0.000154  0.000000\n",
       "2     0.000461  0.000000\n",
       "3     0.000615  0.000056\n",
       "4     0.000922  0.000056\n",
       "...        ...       ...\n",
       "4447  1.000000  0.999494\n",
       "4448  1.000000  0.999662\n",
       "4449  1.000000  0.999775\n",
       "4450  1.000000  0.999887\n",
       "4451  1.000000  1.000000\n",
       "\n",
       "[4452 rows x 2 columns]"
      ]
     },
     "execution_count": 38,
     "metadata": {},
     "output_type": "execute_result"
    }
   ],
   "source": [
    "clf_skl = pd.concat([d_tpr2, d_fpr2], axis = 1)\n",
    "clf_skl"
   ]
  },
  {
   "cell_type": "code",
   "execution_count": 39,
   "metadata": {},
   "outputs": [],
   "source": [
    "clf_skl.to_csv('clf_skl.csv', encoding='utf-8', index=False, line_terminator='\\n')"
   ]
  }
 ],
 "metadata": {
  "kernelspec": {
   "display_name": "Python 3",
   "language": "python",
   "name": "python3"
  },
  "language_info": {
   "codemirror_mode": {
    "name": "ipython",
    "version": 3
   },
   "file_extension": ".py",
   "mimetype": "text/x-python",
   "name": "python",
   "nbconvert_exporter": "python",
   "pygments_lexer": "ipython3",
   "version": "3.7.9"
  }
 },
 "nbformat": 4,
 "nbformat_minor": 4
}
